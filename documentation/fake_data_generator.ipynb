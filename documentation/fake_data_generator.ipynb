{
 "cells": [
  {
   "cell_type": "code",
   "execution_count": 4,
   "metadata": {},
   "outputs": [],
   "source": [
    "from faker import Factory\n",
    " \n",
    "def create_names2(fake):\n",
    "    \"\"\"\"\"\"\n",
    "    for i in range(10):\n",
    "        name = \"%s %s\" % (fake.first_name(),\n",
    "                          fake.last_name())\n",
    "        print(name)\n",
    "\n",
    "def create_fake_stuff(fake):\n",
    "    \"\"\"\"\"\"\n",
    "    stuff = [\"email\", \"bs\", \"address\",\n",
    "             \"city\", \"state\",\n",
    "             \"paragraph\"]\n",
    "    for item in stuff:\n",
    "        print(\"%s = %s\" % (item, getattr(fake, item)()))\n",
    " "
   ]
  },
  {
   "cell_type": "code",
   "execution_count": 15,
   "metadata": {},
   "outputs": [
    {
     "name": "stdout",
     "output_type": "stream",
     "text": [
      "email = pbishop@gmail.com\n",
      "bs = harness frictionless synergies\n",
      "address = 56490 Perkins Views Apt. 709\n",
      "South Debbiechester, MN 46192\n",
      "city = Mullinsbury\n",
      "state = Alaska\n",
      "paragraph = Growth likely stop evidence such character management. Prevent current talk trial. Like pressure door rich majority benefit size. Change like glass record interest evidence nice.\n"
     ]
    }
   ],
   "source": [
    "fake = Factory.create()\n",
    "create_fake_stuff(fake)"
   ]
  },
  {
   "cell_type": "code",
   "execution_count": null,
   "metadata": {},
   "outputs": [],
   "source": []
  }
 ],
 "metadata": {
  "kernelspec": {
   "display_name": "Python 3",
   "language": "python",
   "name": "python3"
  },
  "language_info": {
   "codemirror_mode": {
    "name": "ipython",
    "version": 3
   },
   "file_extension": ".py",
   "mimetype": "text/x-python",
   "name": "python",
   "nbconvert_exporter": "python",
   "pygments_lexer": "ipython3",
   "version": "3.5.5"
  }
 },
 "nbformat": 4,
 "nbformat_minor": 2
}
