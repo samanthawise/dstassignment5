{
 "cells": [
  {
   "cell_type": "code",
   "execution_count": 10,
   "metadata": {},
   "outputs": [],
   "source": [
    "with open (\"../data/emailtest.txt\", \"r\") as myfile:\n",
    "    data=myfile.readlines()"
   ]
  },
  {
   "cell_type": "code",
   "execution_count": 11,
   "metadata": {},
   "outputs": [],
   "source": [
    "import random\n",
    "\n",
    "\n",
    "class MarkovChain:\n",
    "\n",
    "    def __init__(self):\n",
    "        self.memory = {}\n",
    "\n",
    "    def _learn_key(self, key, value):\n",
    "        if key not in self.memory:\n",
    "            self.memory[key] = []\n",
    "\n",
    "        self.memory[key].append(value)\n",
    "\n",
    "    def learn(self, text):\n",
    "        tokens = text.split(\" \")\n",
    "        bigrams = [(tokens[i], tokens[i + 1]) for i in range(0, len(tokens) - 1)]\n",
    "        for bigram in bigrams:\n",
    "            self._learn_key(bigram[0], bigram[1])\n",
    "\n",
    "    def _next(self, current_state):\n",
    "        next_possible = self.memory.get(current_state)\n",
    "\n",
    "        if not next_possible:\n",
    "            next_possible = self.memory.keys()\n",
    "\n",
    "        return random.sample(next_possible, 1)[0]\n",
    "\n",
    "    def babble(self, amount, state=''):\n",
    "        if not amount:\n",
    "            return state\n",
    "\n",
    "        next_word = self._next(state)\n",
    "        return state + ' ' + self.babble(amount - 1, next_word)"
   ]
  },
  {
   "cell_type": "code",
   "execution_count": 12,
   "metadata": {},
   "outputs": [],
   "source": [
    "m = MarkovChain()\n",
    "\n",
    "for i in data:\n",
    "    m.learn(i)"
   ]
  },
  {
   "cell_type": "code",
   "execution_count": 23,
   "metadata": {},
   "outputs": [
    {
     "name": "stdout",
     "output_type": "stream",
     "text": [
      " museum, a restored amphitheatre and not far from the\n",
      " monastic community, was ideal for the Greek sculptor behind the Greek sculptor behind the patriotic sculpture. \n",
      " Kerdylio, 70 miles east of Yahoo! Groups is this mountain limestone or granite?\n",
      " a restored amphitheatre and car park for the patriotic sculpture. \n",
      " high and not far from this mountain limestone or granite?\n",
      " A posted:\n",
      " that the\n",
      " restored amphitheatre and car park for the plan, judged that the\n",
      " behind the Greek sculptor behind the Greek sculptor behind the plan, judged that the\n",
      " Salonika and car park for the Greek sculptor behind the Greek sculptor behind the plan, judged that the\n",
      " Alexander's granite features, 240 ft high and not far from this group, send an email to:\n",
      " judged that the\n",
      " Free +s&p Join Now\n",
      " Sponsor ---------------------~-->\n",
      " well as Alexander's granite features, 240 ft high and 170 ft high and 170 ft high and car park for admiring crowds are\n",
      " monastic community, was ideal for the Greek sculptor behind the Greek sculptor behind the patriotic sculpture. \n",
      " weather pretty fast.\n",
      " was ideal for the plan, judged that the\n",
      " amphitheatre and not far from the\n",
      " an email to:\n",
      " admiring crowds are\n",
      " not far from this mountain\n"
     ]
    }
   ],
   "source": [
    "print(m.babble(200))"
   ]
  },
  {
   "cell_type": "markdown",
   "metadata": {},
   "source": [
    "Create the txt file with markov chain"
   ]
  },
  {
   "cell_type": "code",
   "execution_count": 5,
   "metadata": {},
   "outputs": [],
   "source": [
    "text_file = open(\"../data/test.txt\", \"w\")\n",
    "\n",
    "text_file.write(m.babble(1000))\n",
    "\n",
    "text_file.close()"
   ]
  },
  {
   "cell_type": "code",
   "execution_count": null,
   "metadata": {},
   "outputs": [],
   "source": [
    "# can try this to generate txt files"
   ]
  },
  {
   "cell_type": "code",
   "execution_count": null,
   "metadata": {},
   "outputs": [],
   "source": [
    "import os\n",
    "for i in range(0,1001):\n",
    "    os.mknod(\"./a/%04d.txt\"%i)"
   ]
  }
 ],
 "metadata": {
  "kernelspec": {
   "display_name": "Python 3",
   "language": "python",
   "name": "python3"
  },
  "language_info": {
   "codemirror_mode": {
    "name": "ipython",
    "version": 3
   },
   "file_extension": ".py",
   "mimetype": "text/x-python",
   "name": "python",
   "nbconvert_exporter": "python",
   "pygments_lexer": "ipython3",
   "version": "3.5.5"
  },
  "toc": {
   "base_numbering": 1,
   "nav_menu": {},
   "number_sections": true,
   "sideBar": true,
   "skip_h1_title": false,
   "title_cell": "Table of Contents",
   "title_sidebar": "Contents",
   "toc_cell": false,
   "toc_position": {},
   "toc_section_display": true,
   "toc_window_display": false
  }
 },
 "nbformat": 4,
 "nbformat_minor": 2
}
