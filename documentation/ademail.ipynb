{
 "cells": [
  {
   "cell_type": "code",
   "execution_count": 2,
   "metadata": {},
   "outputs": [],
   "source": [
    "from Adversary import Adversary\n",
    "\n",
    "texts = [\n",
    "    'hello how are you doing? I spent all day watching the Ethereum charts',\n",
    "    'please sir buy my viagra. pay me western union thanks'\n",
    "]\n",
    "\n",
    "labels = [\n",
    "    0,\n",
    "    1\n",
    "]\n",
    "\n",
    "gen = Adversary()\n",
    "\n",
    "# apply generate() only to texts in the positive class (spam in this class)\n",
    "\n",
    "spam_messages = [t for i, t in enumerate(texts) if labels[i] == 1]\n",
    "texts_gen = gen.generate(spam_messages, text_sample_rate=5.0, word_sample_rate=0.5,\n",
    "                         attacks={'synonym': 0.5, 'change_case': 0.8, 'letter_to_symbol': 0.5, 'delete_characters': 0.3})"
   ]
  },
  {
   "cell_type": "code",
   "execution_count": 3,
   "metadata": {},
   "outputs": [
    {
     "data": {
      "text/plain": [
       "[('plEAse SIR buy my viagra pay me southern UnIOn gj',\n",
       "  ['synonym', 'change_case'],\n",
       "  0),\n",
       " (\"PleaSe ma'am buy my viagra. pay me WeSTErn unions thanks\",\n",
       "  ['synonym', 'change_case'],\n",
       "  0),\n",
       " ('ASK Sir/madam BUY my viagra. pay me easTErn union thanks',\n",
       "  ['synonym', 'change_case'],\n",
       "  0),\n",
       " ('please sir buy my viagra. pay me western union thanks', [], 0),\n",
       " ('pLeAsE SIR buy my via9rA p@y me wes7Ern union THANKs',\n",
       "  ['change_case', 'letter_to_symbol'],\n",
       "  0)]"
      ]
     },
     "execution_count": 3,
     "metadata": {},
     "output_type": "execute_result"
    }
   ],
   "source": [
    "texts_gen"
   ]
  },
  {
   "cell_type": "code",
   "execution_count": null,
   "metadata": {},
   "outputs": [],
   "source": []
  }
 ],
 "metadata": {
  "kernelspec": {
   "display_name": "Python 3",
   "language": "python",
   "name": "python3"
  },
  "language_info": {
   "codemirror_mode": {
    "name": "ipython",
    "version": 3
   },
   "file_extension": ".py",
   "mimetype": "text/x-python",
   "name": "python",
   "nbconvert_exporter": "python",
   "pygments_lexer": "ipython3",
   "version": "3.7.1"
  },
  "toc": {
   "base_numbering": 1,
   "nav_menu": {},
   "number_sections": true,
   "sideBar": true,
   "skip_h1_title": false,
   "title_cell": "Table of Contents",
   "title_sidebar": "Contents",
   "toc_cell": false,
   "toc_position": {},
   "toc_section_display": true,
   "toc_window_display": false
  }
 },
 "nbformat": 4,
 "nbformat_minor": 2
}
