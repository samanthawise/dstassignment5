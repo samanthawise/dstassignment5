{
 "cells": [
  {
   "cell_type": "markdown",
   "metadata": {},
   "source": [
    "This is what we have and we continue to do this for the next deadline you will give. Hopefully it will be after the exams, and we will submit our write up in github/report page as well.\n",
    "\n",
    "\n",
    "Basic idea of our project is try to do spam email detection and first by using word count to count words for spam emails and other text files."
   ]
  },
  {
   "cell_type": "markdown",
   "metadata": {},
   "source": [
    "# Pyspark exploration"
   ]
  },
  {
   "cell_type": "markdown",
   "metadata": {},
   "source": [
    "## Import dataset and setup the environment "
   ]
  },
  {
   "cell_type": "code",
   "execution_count": 1,
   "metadata": {},
   "outputs": [],
   "source": [
    "from pyspark import SparkContext\n",
    "import os \n",
    "\n",
    "# this should be JAVA_HOME path\n",
    "os.environ['JAVA_HOME']=\"/Library/Java/JavaVirtualMachines/jdk1.8.0_202.jdk/Contents/Home/\"\n",
    "\n",
    "os.environ['PYSPARK_SUBMIT_ARGS'] = \"--master local[2] pyspark-shell\"\n",
    "\n",
    "sc = SparkContext.getOrCreate()"
   ]
  },
  {
   "cell_type": "code",
   "execution_count": 26,
   "metadata": {},
   "outputs": [],
   "source": [
    "data_file = \"../data/labelled_dataset.csv.gz\"\n",
    "raw_data = sc.textFile(data_file).cache()"
   ]
  },
  {
   "cell_type": "code",
   "execution_count": 27,
   "metadata": {},
   "outputs": [],
   "source": [
    "from pyspark.sql import SparkSession\n",
    "spark = SparkSession.builder.appName(\"test\").getOrCreate()"
   ]
  },
  {
   "cell_type": "code",
   "execution_count": 28,
   "metadata": {},
   "outputs": [],
   "source": [
    "df = spark.read.csv(data_file,header=True,inferSchema=True)"
   ]
  },
  {
   "cell_type": "markdown",
   "metadata": {},
   "source": [
    "## DataFrame operations"
   ]
  },
  {
   "cell_type": "markdown",
   "metadata": {},
   "source": [
    "### columns name"
   ]
  },
  {
   "cell_type": "code",
   "execution_count": 7,
   "metadata": {},
   "outputs": [
    {
     "data": {
      "text/plain": [
       "['label', 'txt']"
      ]
     },
     "execution_count": 7,
     "metadata": {},
     "output_type": "execute_result"
    }
   ],
   "source": [
    "df.columns"
   ]
  },
  {
   "cell_type": "markdown",
   "metadata": {},
   "source": [
    "### Select column"
   ]
  },
  {
   "cell_type": "code",
   "execution_count": 8,
   "metadata": {},
   "outputs": [
    {
     "data": {
      "text/plain": [
       "Column<b'txt'>"
      ]
     },
     "execution_count": 8,
     "metadata": {},
     "output_type": "execute_result"
    }
   ],
   "source": [
    "df.txt"
   ]
  },
  {
   "cell_type": "markdown",
   "metadata": {},
   "source": [
    "### Print Schema"
   ]
  },
  {
   "cell_type": "code",
   "execution_count": 9,
   "metadata": {},
   "outputs": [
    {
     "name": "stdout",
     "output_type": "stream",
     "text": [
      "root\n",
      " |-- label: string (nullable = true)\n",
      " |-- txt: string (nullable = true)\n",
      "\n"
     ]
    }
   ],
   "source": [
    "df.printSchema()"
   ]
  },
  {
   "cell_type": "markdown",
   "metadata": {},
   "source": [
    "### Head 5"
   ]
  },
  {
   "cell_type": "code",
   "execution_count": 24,
   "metadata": {},
   "outputs": [
    {
     "name": "stdout",
     "output_type": "stream",
     "text": [
      "Row(label='ham', txt='Go until jurong point, crazy.. Available only in bugis n great world la e buffet... Cine there got amore wat...')\n",
      "\n",
      "\n",
      "Row(label='ham', txt='Ok lar... Joking wif u oni...')\n",
      "\n",
      "\n",
      "Row(label='spam', txt=\"Free entry in 2 a wkly comp to win FA Cup final tkts 21st May 2005. Text FA to 87121 to receive entry question(std txt rate)T&C's apply 08452810075over18's\")\n",
      "\n",
      "\n",
      "Row(label='ham', txt='U dun say so early hor... U c already then say...')\n",
      "\n",
      "\n",
      "Row(label='ham', txt=\"Nah I don't think he goes to usf, he lives around here though\")\n",
      "\n",
      "\n"
     ]
    }
   ],
   "source": [
    "# Didn't strictly need a for loop, could have just then head()\n",
    "for row in df.head(5):\n",
    "    print(row)\n",
    "    print('\\n')"
   ]
  },
  {
   "cell_type": "code",
   "execution_count": 25,
   "metadata": {},
   "outputs": [
    {
     "name": "stdout",
     "output_type": "stream",
     "text": [
      "+-------+--------------------+------------------+\n",
      "|summary|               label|               txt|\n",
      "+-------+--------------------+------------------+\n",
      "|  count|             1970119|            840730|\n",
      "|   mean|            Infinity|1023.1263393359594|\n",
      "| stddev|                 NaN|  8450.10290912209|\n",
      "|    min|                   !|                  |\n",
      "|    max|⸪ Great Allowance...|        ”” said he|\n",
      "+-------+--------------------+------------------+\n",
      "\n"
     ]
    }
   ],
   "source": [
    "df.describe().show()"
   ]
  },
  {
   "cell_type": "markdown",
   "metadata": {},
   "source": [
    "### Count"
   ]
  },
  {
   "cell_type": "code",
   "execution_count": 26,
   "metadata": {},
   "outputs": [
    {
     "data": {
      "text/plain": [
       "877"
      ]
     },
     "execution_count": 26,
     "metadata": {},
     "output_type": "execute_result"
    }
   ],
   "source": [
    "df.filter(\"label == 'spam'\").count()"
   ]
  },
  {
   "cell_type": "code",
   "execution_count": 27,
   "metadata": {},
   "outputs": [
    {
     "data": {
      "text/plain": [
       "1009"
      ]
     },
     "execution_count": 27,
     "metadata": {},
     "output_type": "execute_result"
    }
   ],
   "source": [
    "df.filter(\"label == 'books'\").count()"
   ]
  },
  {
   "cell_type": "code",
   "execution_count": 11,
   "metadata": {},
   "outputs": [],
   "source": [
    "# https://stackoverflow.com/questions/48927271/count-number-of-words-in-a-spark-dataframe\n",
    "import pyspark.sql.functions as f\n",
    "data = df"
   ]
  },
  {
   "cell_type": "markdown",
   "metadata": {},
   "source": [
    "### word count"
   ]
  },
  {
   "cell_type": "code",
   "execution_count": 29,
   "metadata": {},
   "outputs": [
    {
     "name": "stdout",
     "output_type": "stream",
     "text": [
      "+-----+--------------------+---------+\n",
      "|label|                 txt|wordCount|\n",
      "+-----+--------------------+---------+\n",
      "|  ham|Go until jurong p...|       20|\n",
      "|  ham|Ok lar... Joking ...|        6|\n",
      "| spam|Free entry in 2 a...|       28|\n",
      "|  ham|U dun say so earl...|       11|\n",
      "|  ham|Nah I don't think...|       13|\n",
      "| spam|FreeMsg Hey there...|       32|\n",
      "|  ham|Even my brother i...|       16|\n",
      "|  ham|As per your reque...|       26|\n",
      "| spam|WINNER!! As a val...|       26|\n",
      "| spam|Had your mobile 1...|       29|\n",
      "|  ham|I'm gonna be home...|       21|\n",
      "| spam|SIX chances to wi...|       26|\n",
      "| spam|URGENT! You have ...|       26|\n",
      "|  ham|I've been searchi...|       37|\n",
      "|  ham|I HAVE A DATE ON ...|        8|\n",
      "| spam|XXXMobileMovieClu...|       19|\n",
      "|  ham|Oh k...i'm watchi...|        4|\n",
      "|  ham|Eh u remember how...|       19|\n",
      "|  ham|Fine if thatåÕs t...|       13|\n",
      "| spam|England v Macedon...|       24|\n",
      "+-----+--------------------+---------+\n",
      "only showing top 20 rows\n",
      "\n"
     ]
    }
   ],
   "source": [
    "# word count for each row\n",
    "df = df.withColumn('wordCount', f.size(f.split(f.col('txt'), ' ')))\n",
    "df.show()"
   ]
  },
  {
   "cell_type": "code",
   "execution_count": 30,
   "metadata": {},
   "outputs": [
    {
     "data": {
      "text/plain": [
       "[Row(sum(wordCount)=5584925)]"
      ]
     },
     "execution_count": 30,
     "metadata": {},
     "output_type": "execute_result"
    }
   ],
   "source": [
    "# total word\n",
    "df.select(f.sum('wordCount')).collect() "
   ]
  },
  {
   "cell_type": "code",
   "execution_count": 31,
   "metadata": {},
   "outputs": [
    {
     "data": {
      "text/plain": [
       "pyspark.sql.dataframe.DataFrame"
      ]
     },
     "execution_count": 31,
     "metadata": {},
     "output_type": "execute_result"
    }
   ],
   "source": [
    "# see what type df is\n",
    "type(df)"
   ]
  },
  {
   "cell_type": "code",
   "execution_count": 32,
   "metadata": {},
   "outputs": [
    {
     "data": {
      "text/plain": [
       "[Row(label='ham', txt='Go until jurong point, crazy.. Available only in bugis n great world la e buffet... Cine there got amore wat...', wordCount=20),\n",
       " Row(label='ham', txt='Ok lar... Joking wif u oni...', wordCount=6),\n",
       " Row(label='spam', txt=\"Free entry in 2 a wkly comp to win FA Cup final tkts 21st May 2005. Text FA to 87121 to receive entry question(std txt rate)T&C's apply 08452810075over18's\", wordCount=28),\n",
       " Row(label='ham', txt='U dun say so early hor... U c already then say...', wordCount=11),\n",
       " Row(label='ham', txt=\"Nah I don't think he goes to usf, he lives around here though\", wordCount=13)]"
      ]
     },
     "execution_count": 32,
     "metadata": {},
     "output_type": "execute_result"
    }
   ],
   "source": [
    "# first 5 row\n",
    "df.take(5)"
   ]
  },
  {
   "cell_type": "code",
   "execution_count": 33,
   "metadata": {},
   "outputs": [
    {
     "name": "stdout",
     "output_type": "stream",
     "text": [
      "+-----+--------------------+---------+\n",
      "|label|                 txt|wordCount|\n",
      "+-----+--------------------+---------+\n",
      "|  ham|Go until jurong p...|       20|\n",
      "|  ham|Ok lar... Joking ...|        6|\n",
      "| spam|Free entry in 2 a...|       28|\n",
      "|  ham|U dun say so earl...|       11|\n",
      "|  ham|Nah I don't think...|       13|\n",
      "| spam|FreeMsg Hey there...|       32|\n",
      "|  ham|Even my brother i...|       16|\n",
      "|  ham|As per your reque...|       26|\n",
      "| spam|WINNER!! As a val...|       26|\n",
      "| spam|Had your mobile 1...|       29|\n",
      "|  ham|I'm gonna be home...|       21|\n",
      "| spam|SIX chances to wi...|       26|\n",
      "| spam|URGENT! You have ...|       26|\n",
      "|  ham|I've been searchi...|       37|\n",
      "|  ham|I HAVE A DATE ON ...|        8|\n",
      "| spam|XXXMobileMovieClu...|       19|\n",
      "|  ham|Oh k...i'm watchi...|        4|\n",
      "|  ham|Eh u remember how...|       19|\n",
      "|  ham|Fine if thatåÕs t...|       13|\n",
      "| spam|England v Macedon...|       24|\n",
      "+-----+--------------------+---------+\n",
      "only showing top 20 rows\n",
      "\n"
     ]
    }
   ],
   "source": [
    "df.show()"
   ]
  },
  {
   "cell_type": "markdown",
   "metadata": {},
   "source": [
    "### word count collection"
   ]
  },
  {
   "cell_type": "code",
   "execution_count": 14,
   "metadata": {},
   "outputs": [
    {
     "name": "stdout",
     "output_type": "stream",
     "text": [
      "+----+------+\n",
      "|word| count|\n",
      "+----+------+\n",
      "|    |784389|\n",
      "| the|282718|\n",
      "| and|194113|\n",
      "|  of|163358|\n",
      "|  to|145701|\n",
      "|   a|103066|\n",
      "|  in| 90602|\n",
      "|   I| 88815|\n",
      "|that| 72731|\n",
      "|  he| 53735|\n",
      "| his| 48351|\n",
      "|  it| 46497|\n",
      "|  as| 46428|\n",
      "|with| 45537|\n",
      "| was| 45149|\n",
      "|  is| 43232|\n",
      "| you| 42713|\n",
      "| for| 41989|\n",
      "|  my| 39440|\n",
      "|  be| 37498|\n",
      "+----+------+\n",
      "only showing top 20 rows\n",
      "\n"
     ]
    }
   ],
   "source": [
    "df.withColumn('word', f.explode(f.split(f.col('txt'), ' ')))\\\n",
    "    .groupBy('word')\\\n",
    "    .count()\\\n",
    "    .sort('count', ascending=False)\\\n",
    "    .show()"
   ]
  },
  {
   "cell_type": "code",
   "execution_count": 16,
   "metadata": {},
   "outputs": [],
   "source": [
    "word = df.withColumn('word', f.explode(f.split(f.col('txt'), ' ')))\\\n",
    "    .groupBy('word')\\\n",
    "    .count()\\\n",
    "    .sort('count', ascending=False)\n"
   ]
  },
  {
   "cell_type": "code",
   "execution_count": 17,
   "metadata": {},
   "outputs": [],
   "source": [
    "to_list = [list(row) for row in word.collect()]"
   ]
  },
  {
   "cell_type": "code",
   "execution_count": 18,
   "metadata": {},
   "outputs": [
    {
     "data": {
      "text/plain": [
       "[['', 784389],\n",
       " ['the', 282718],\n",
       " ['and', 194113],\n",
       " ['of', 163358],\n",
       " ['to', 145701],\n",
       " ['a', 103066],\n",
       " ['in', 90602],\n",
       " ['I', 88815],\n",
       " ['that', 72731],\n",
       " ['he', 53735],\n",
       " ['his', 48351],\n",
       " ['it', 46497],\n",
       " ['as', 46428],\n",
       " ['with', 45537],\n",
       " ['was', 45149],\n",
       " ['is', 43232],\n",
       " ['you', 42713],\n",
       " ['for', 41989],\n",
       " ['my', 39440],\n",
       " ['be', 37498],\n",
       " ['not', 36717],\n",
       " ['said', 35815],\n",
       " ['but', 30960],\n",
       " ['her', 29836],\n",
       " ['by', 28872],\n",
       " ['which', 27959],\n",
       " ['had', 27774],\n",
       " ['have', 27517],\n",
       " ['at', 26732],\n",
       " ['on', 24268],\n",
       " ['all', 23451],\n",
       " ['she', 23229],\n",
       " ['or', 23213],\n",
       " ['”', 22745],\n",
       " ['they', 22602],\n",
       " ['this', 22290],\n",
       " ['from', 22200],\n",
       " ['so', 21598],\n",
       " ['me', 20026],\n",
       " ['him', 19725],\n",
       " ['are', 18955],\n",
       " ['their', 16713],\n",
       " ['your', 16205],\n",
       " ['we', 16088],\n",
       " ['no', 16000],\n",
       " ['will', 15928],\n",
       " ['an', 15740],\n",
       " ['if', 15532],\n",
       " ['who', 15366],\n",
       " ['were', 14681],\n",
       " ['when', 14664],\n",
       " ['one', 14050],\n",
       " ['what', 13680],\n",
       " [\"'\", 12522],\n",
       " ['them', 12275],\n",
       " ['would', 12184],\n",
       " ['been', 11145],\n",
       " ['more', 11038],\n",
       " ['there', 10798],\n",
       " ['shall', 10633],\n",
       " ['our', 10372],\n",
       " ['The', 10160],\n",
       " ['upon', 10116],\n",
       " ['any', 9890],\n",
       " ['do', 9882],\n",
       " ['out', 9677],\n",
       " ['very', 9533],\n",
       " ['then', 9175],\n",
       " ['Mr.', 9140],\n",
       " ['some', 9013],\n",
       " ['may', 8949],\n",
       " ['into', 8922],\n",
       " ['und', 8877],\n",
       " ['up', 8810],\n",
       " ['than', 8440],\n",
       " ['man', 8333],\n",
       " ['now', 8325],\n",
       " ['has', 8145],\n",
       " ['like', 8114],\n",
       " ['can', 8037],\n",
       " ['—', 7915],\n",
       " ['should', 7783],\n",
       " ['such', 7762],\n",
       " ['know', 7676],\n",
       " ['Sir', 7654],\n",
       " ['could', 7602],\n",
       " ['must', 7425],\n",
       " ['He', 7316],\n",
       " ['am', 7223],\n",
       " ['see', 6903],\n",
       " ['good', 6854],\n",
       " ['great', 6842],\n",
       " ['other', 6763],\n",
       " ['much', 6739],\n",
       " ['But', 6733],\n",
       " ['little', 6711],\n",
       " ['only', 6611],\n",
       " ['did', 6542],\n",
       " ['made', 6490],\n",
       " ['And', 6460],\n",
       " ['where', 6287],\n",
       " ['about', 6287],\n",
       " ['before', 6227],\n",
       " ['time', 6177],\n",
       " ['thy', 6128],\n",
       " ['thou', 6020],\n",
       " ['’', 5947],\n",
       " ['come', 5911],\n",
       " ['die', 5888],\n",
       " ['never', 5830],\n",
       " ['say', 5808],\n",
       " ['make', 5799],\n",
       " ['how', 5782],\n",
       " ['after', 5739],\n",
       " ['yet', 5733],\n",
       " ['these', 5613],\n",
       " ['think', 5611],\n",
       " ['us', 5576],\n",
       " ['der', 5568],\n",
       " ['most', 5537],\n",
       " ['well', 5507],\n",
       " ['those', 5444],\n",
       " ['two', 5421],\n",
       " ['own', 5395],\n",
       " ['first', 5336],\n",
       " ['go', 5093],\n",
       " ['every', 5080],\n",
       " ['being', 5054],\n",
       " ['too', 4965],\n",
       " ['its', 4962],\n",
       " ['down', 4871],\n",
       " ['It', 4849],\n",
       " ['let', 4789],\n",
       " ['without', 4744],\n",
       " ['take', 4579],\n",
       " ['old', 4564],\n",
       " ['might', 4508],\n",
       " ['many', 4449],\n",
       " ['over', 4329],\n",
       " ['though', 4312],\n",
       " ['came', 4124],\n",
       " ['nor', 4068],\n",
       " ['it.', 4046],\n",
       " ['dear', 4035],\n",
       " ['same', 4012],\n",
       " ['here', 3980],\n",
       " ['men', 3936],\n",
       " ['thought', 3927],\n",
       " ['long', 3852],\n",
       " ['went', 3841],\n",
       " ['himself', 3800],\n",
       " ['give', 3721],\n",
       " ['Lord', 3714],\n",
       " ['even', 3677],\n",
       " ['She', 3648],\n",
       " [\"don't\", 3622],\n",
       " ['way', 3619],\n",
       " ['tell', 3618],\n",
       " ['day', 3540],\n",
       " ['ever', 3520],\n",
       " ['still', 3519],\n",
       " ['because', 3466],\n",
       " ['against', 3435],\n",
       " ['while', 3415],\n",
       " ['whom', 3379],\n",
       " ['just', 3371],\n",
       " ['last', 3332],\n",
       " ['Mr', 3307],\n",
       " ['God', 3301],\n",
       " ['thee', 3256],\n",
       " ['whose', 3246],\n",
       " ['young', 3236],\n",
       " ['nothing', 3206],\n",
       " ['put', 3198],\n",
       " ['Mrs.', 3182],\n",
       " ['ye', 3122],\n",
       " ['under', 3100],\n",
       " ['hand', 3070],\n",
       " ['found', 3057],\n",
       " ['him.', 3039],\n",
       " ['You', 2974],\n",
       " ['through', 2955],\n",
       " ['Miss', 2927],\n",
       " ['sir', 2910],\n",
       " ['both', 2900],\n",
       " ['till', 2888],\n",
       " ['away', 2860],\n",
       " ['Lady', 2850],\n",
       " ['hath', 2831],\n",
       " ['again', 2826],\n",
       " ['sie', 2818],\n",
       " ['\"\"', 2818],\n",
       " ['back', 2817],\n",
       " ['thing', 2806],\n",
       " ['life', 2795],\n",
       " ['off', 2783],\n",
       " ['another', 2757],\n",
       " ['find', 2754],\n",
       " ['love', 2746],\n",
       " ['get', 2741],\n",
       " ['saw', 2726],\n",
       " ['things', 2693],\n",
       " ['told', 2686],\n",
       " ['A', 2668],\n",
       " ['er', 2664],\n",
       " ['once', 2664],\n",
       " ['each', 2658],\n",
       " ['people', 2645],\n",
       " ['always', 2640],\n",
       " ['having', 2630],\n",
       " ['They', 2610],\n",
       " ['That', 2581],\n",
       " ['part', 2576],\n",
       " ['place', 2551],\n",
       " ['unto', 2541],\n",
       " ['eyes', 2536],\n",
       " ['took', 2513],\n",
       " ['left', 2507],\n",
       " ['den', 2501],\n",
       " ['cannot', 2494],\n",
       " ['me.', 2490],\n",
       " ['replied', 2486],\n",
       " ['heard', 2485],\n",
       " ['got', 2481],\n",
       " ['If', 2473],\n",
       " ['daß', 2468],\n",
       " ['heart', 2442],\n",
       " ['done', 2434],\n",
       " ['mind', 2407],\n",
       " ['also', 2403],\n",
       " ['das', 2397],\n",
       " ['says', 2393],\n",
       " ['indeed', 2391],\n",
       " ['three', 2389],\n",
       " ['better', 2357],\n",
       " ['right', 2350],\n",
       " ['therefore', 2340],\n",
       " ['far', 2326],\n",
       " ['look', 2323],\n",
       " ['since', 2314],\n",
       " ['however', 2298],\n",
       " [\"I'll\", 2297],\n",
       " ['call', 2284],\n",
       " ['between', 2279],\n",
       " ['new', 2270],\n",
       " ['knew', 2258],\n",
       " ['whole', 2258],\n",
       " ['house', 2238],\n",
       " ['name', 2228],\n",
       " ['want', 2219],\n",
       " ['called', 2202],\n",
       " ['ich', 2193],\n",
       " ['set', 2191],\n",
       " ['zu', 2185],\n",
       " ['best', 2178],\n",
       " ['among', 2160],\n",
       " ['going', 2133],\n",
       " ['believe', 2130],\n",
       " ['head', 2128],\n",
       " ['sure', 2124],\n",
       " ['face', 2118],\n",
       " ['This', 2107],\n",
       " ['you.', 2103],\n",
       " ['few', 2092],\n",
       " [\"I'm\", 2091],\n",
       " ['world', 2060],\n",
       " ['rather', 2046],\n",
       " ['soon', 2042],\n",
       " ['father', 2024],\n",
       " ['why', 2021],\n",
       " ['In', 2012],\n",
       " ['hope', 2002],\n",
       " ['We', 1976],\n",
       " ['nicht', 1960],\n",
       " ['poor', 1951],\n",
       " ['seen', 1929],\n",
       " ['perhaps', 1926],\n",
       " ['brought', 1917],\n",
       " ['O', 1912],\n",
       " ['What', 1909],\n",
       " ['said.', 1904],\n",
       " ['friend', 1903],\n",
       " ['&', 1898],\n",
       " ['thus', 1894],\n",
       " ['word', 1892],\n",
       " ['For', 1888],\n",
       " ['present', 1885],\n",
       " ['something', 1884],\n",
       " ['dem', 1883],\n",
       " ['hear', 1869],\n",
       " ['night', 1868],\n",
       " ['looked', 1854],\n",
       " ['gave', 1853],\n",
       " ['full', 1849],\n",
       " ['half', 1839],\n",
       " [\"'tis\", 1838],\n",
       " ['enough', 1830],\n",
       " ['taken', 1811],\n",
       " ['There', 1808],\n",
       " ['von', 1798],\n",
       " ['almost', 1781],\n",
       " ['least', 1777],\n",
       " ['less', 1768],\n",
       " ['cried', 1764],\n",
       " ['“I', 1755],\n",
       " ['Mrs', 1754],\n",
       " ['leave', 1753],\n",
       " ['whether', 1749],\n",
       " ['next', 1746],\n",
       " ['round', 1744],\n",
       " [\"tho'\", 1728],\n",
       " ['course', 1724],\n",
       " ['woman', 1723],\n",
       " ['them.', 1717],\n",
       " ['quite', 1706],\n",
       " ['does', 1702],\n",
       " ['true', 1693],\n",
       " ['haue', 1684],\n",
       " ['began', 1682],\n",
       " ['work', 1677],\n",
       " ['given', 1676],\n",
       " ['themselves', 1665],\n",
       " ['King', 1659],\n",
       " ['either', 1651],\n",
       " ['kind', 1635],\n",
       " ['myself', 1633],\n",
       " ['seemed', 1627],\n",
       " ['To', 1625],\n",
       " ['speak', 1623],\n",
       " ['des', 1623],\n",
       " ['ist', 1607],\n",
       " ['years', 1604],\n",
       " ['sent', 1600],\n",
       " ['words', 1597],\n",
       " ['wish', 1584],\n",
       " ['her.', 1579],\n",
       " ['asked', 1568],\n",
       " ['keep', 1562],\n",
       " ['Then', 1559],\n",
       " ['hands', 1552],\n",
       " ['near', 1542],\n",
       " ['light', 1540],\n",
       " ['mean', 1532],\n",
       " ['side', 1529],\n",
       " ['end', 1522],\n",
       " ['answered', 1520],\n",
       " ['above', 1515],\n",
       " ['returned', 1502],\n",
       " ['ought', 1500],\n",
       " ['As', 1498],\n",
       " ['saying', 1497],\n",
       " ['&c.', 1475],\n",
       " ['son', 1464],\n",
       " ['voice', 1453],\n",
       " ['others', 1446],\n",
       " ['order', 1441],\n",
       " ['du', 1427],\n",
       " ['reason', 1424],\n",
       " ['several', 1421],\n",
       " ['bring', 1420],\n",
       " ['mother', 1420],\n",
       " ['When', 1420],\n",
       " ['power', 1419],\n",
       " ['suppose', 1410],\n",
       " ['moment', 1408],\n",
       " ['small', 1408],\n",
       " ['together', 1407],\n",
       " ['often', 1405],\n",
       " ['mit', 1396],\n",
       " ['lay', 1385],\n",
       " ['looking', 1379],\n",
       " ['home', 1371],\n",
       " ['stood', 1368],\n",
       " ['neither', 1345],\n",
       " ['His', 1344],\n",
       " ['Man', 1343],\n",
       " ['herself', 1343],\n",
       " ['felt', 1338],\n",
       " ['high', 1337],\n",
       " ['matter', 1337],\n",
       " ['LORD', 1332],\n",
       " ['use', 1314],\n",
       " ['within', 1312],\n",
       " ['days', 1312],\n",
       " ['war', 1308],\n",
       " ['My', 1305],\n",
       " ['gone', 1302],\n",
       " ['care', 1301],\n",
       " ['certain', 1282],\n",
       " ['auf', 1282],\n",
       " ['ihr', 1279],\n",
       " [\"it's\", 1276],\n",
       " ['fear', 1275],\n",
       " [\"can't\", 1258],\n",
       " ['manner', 1258],\n",
       " ['rest', 1258],\n",
       " ['turned', 1251],\n",
       " ['free', 1243],\n",
       " ['read', 1235],\n",
       " ['art', 1230],\n",
       " ['live', 1228],\n",
       " ['seems', 1226],\n",
       " ['none', 1219],\n",
       " ['So', 1209],\n",
       " ['room', 1209],\n",
       " ['ask', 1209],\n",
       " ['known', 1208],\n",
       " ['alone', 1207],\n",
       " ['mine', 1203],\n",
       " ['Madam', 1198],\n",
       " ['feel', 1187],\n",
       " ['hundred', 1185],\n",
       " ['country', 1184],\n",
       " ['lady', 1184],\n",
       " ['money', 1183],\n",
       " ['open', 1181],\n",
       " ['es', 1176],\n",
       " ['nature', 1173],\n",
       " ['four', 1172],\n",
       " [\"that's\", 1171],\n",
       " ['different', 1165],\n",
       " ['morning', 1162],\n",
       " ['thousand', 1160],\n",
       " ['lost', 1156],\n",
       " ['general', 1156],\n",
       " ['hold', 1148],\n",
       " ['doubt', 1147],\n",
       " ['send', 1145],\n",
       " ['means', 1144],\n",
       " ['ein', 1142],\n",
       " ['short', 1136],\n",
       " ['sat', 1135],\n",
       " ['hast', 1131],\n",
       " ['death', 1131],\n",
       " [\"''\", 1131],\n",
       " ['times', 1129],\n",
       " ['late', 1129],\n",
       " ['door', 1126],\n",
       " ['wife', 1124],\n",
       " ['Tom', 1119],\n",
       " ['please', 1118],\n",
       " ['strong', 1114],\n",
       " ['wie', 1113],\n",
       " ['John', 1112],\n",
       " ['along', 1111],\n",
       " ['makes', 1111],\n",
       " ['large', 1111],\n",
       " ['brother', 1109],\n",
       " ['body', 1103],\n",
       " ['continued', 1102],\n",
       " ['common', 1093],\n",
       " ['really', 1092],\n",
       " ['stand', 1091],\n",
       " ['de', 1090],\n",
       " ['already', 1087],\n",
       " ['according', 1085],\n",
       " ['hat', 1085],\n",
       " ['towards', 1081],\n",
       " ['happy', 1081],\n",
       " ['answer', 1074],\n",
       " ['help', 1072],\n",
       " ['hour', 1070],\n",
       " ['making', 1069],\n",
       " ['forth', 1067],\n",
       " ['How', 1062],\n",
       " ['cause', 1060],\n",
       " ['truth', 1057],\n",
       " ['coming', 1056],\n",
       " ['land', 1056],\n",
       " ['it;', 1051],\n",
       " ['used', 1050],\n",
       " ['se', 1050],\n",
       " ['need', 1048],\n",
       " ['fine', 1045],\n",
       " ['comes', 1037],\n",
       " ['madam', 1034],\n",
       " ['anything', 1033],\n",
       " ['girl', 1025],\n",
       " ['talk', 1023],\n",
       " ['received', 1020],\n",
       " ['kept', 1020],\n",
       " ['i', 1019],\n",
       " ['fair', 1019],\n",
       " ['letter', 1016],\n",
       " ['state', 1013],\n",
       " ['fell', 1010],\n",
       " ['able', 1009],\n",
       " ['sense', 1007],\n",
       " ['friends', 1005],\n",
       " ['dead', 1004],\n",
       " ['an’', 997],\n",
       " ['children', 995],\n",
       " ['meet', 991],\n",
       " ['business', 991],\n",
       " ['turn', 990],\n",
       " ['hard', 990],\n",
       " ['Captain', 988],\n",
       " ['No', 986],\n",
       " ['pretty', 983],\n",
       " ['Sir.', 982],\n",
       " ['soul', 979],\n",
       " ['THE', 979],\n",
       " ['person', 978],\n",
       " ['return', 978],\n",
       " ['else', 968],\n",
       " ['child', 968],\n",
       " ['.', 965],\n",
       " ['certainly', 962],\n",
       " ['account', 959],\n",
       " ['honour', 958],\n",
       " ['p.', 952],\n",
       " ['seem', 951],\n",
       " ['passed', 949],\n",
       " ['white', 948],\n",
       " ['Men', 947],\n",
       " ['necessary', 946],\n",
       " ['subject', 945],\n",
       " ['air', 945],\n",
       " ['eye', 940],\n",
       " ['sort', 934],\n",
       " ['case', 934],\n",
       " ['fire', 934],\n",
       " ['human', 929],\n",
       " ['run', 929],\n",
       " [\"I've\", 925],\n",
       " ['gentleman', 923],\n",
       " ['taking', 921],\n",
       " ['behind', 921],\n",
       " ['sometimes', 920],\n",
       " ['king', 919],\n",
       " ['remember', 916],\n",
       " ['sich', 915],\n",
       " ['bear', 910],\n",
       " ['become', 907],\n",
       " ['second', 907],\n",
       " ['bad', 905],\n",
       " ['Now', 903],\n",
       " ['laid', 902],\n",
       " ['five', 902],\n",
       " ['past', 896],\n",
       " ['sweet', 893],\n",
       " ['At', 891],\n",
       " ['ten', 890],\n",
       " ['particular', 888],\n",
       " ['pay', 885],\n",
       " ['Gott', 881],\n",
       " ['desire', 879],\n",
       " ['wird', 878],\n",
       " ['2', 873],\n",
       " ['water', 870],\n",
       " ['year', 868],\n",
       " ['met', 867],\n",
       " ['pray', 866],\n",
       " ['ready', 861],\n",
       " ['close', 857],\n",
       " [\"won't\", 857],\n",
       " ['receive', 857],\n",
       " ['held', 857],\n",
       " ['quod', 856],\n",
       " ['-', 856],\n",
       " ['act', 854],\n",
       " ['Father', 852],\n",
       " ['point', 845],\n",
       " ['natural', 844],\n",
       " ['HERR', 843],\n",
       " ['form', 834],\n",
       " ['beyond', 834],\n",
       " ['Why', 833],\n",
       " ['fall', 833],\n",
       " ['cut', 828],\n",
       " ['stay', 827],\n",
       " ['proper', 826],\n",
       " ['women', 826],\n",
       " ['denn', 825],\n",
       " ['earth', 824],\n",
       " ['observed', 823],\n",
       " ['u', 823],\n",
       " ['during', 822],\n",
       " ['family', 816],\n",
       " ['Israel', 816],\n",
       " ['glad', 814],\n",
       " ['pleasure', 813],\n",
       " ['again.', 810],\n",
       " ['sight', 810],\n",
       " ['English', 809],\n",
       " ['feet', 806],\n",
       " ['number', 806],\n",
       " ['greater', 803],\n",
       " ['following', 802],\n",
       " ['et', 800],\n",
       " ['immediately', 799],\n",
       " ['write', 799],\n",
       " ['save', 797],\n",
       " ['lord', 794],\n",
       " ['itself', 793],\n",
       " ['self', 792],\n",
       " ['understand', 792],\n",
       " ['knows', 790],\n",
       " ['sound', 790],\n",
       " ['spirit', 789],\n",
       " ['strange', 788],\n",
       " ['ne', 787],\n",
       " [\"th'\", 787],\n",
       " ['euch', 787],\n",
       " ['All', 784],\n",
       " ['town', 779],\n",
       " ['St.', 773],\n",
       " ['question', 771],\n",
       " ['boy', 768],\n",
       " ['until', 765],\n",
       " ['deep', 761],\n",
       " ['afraid', 760],\n",
       " ['ihm', 758],\n",
       " ['ihn', 757],\n",
       " ['shew', 757],\n",
       " ['spoke', 757],\n",
       " ['change', 755],\n",
       " ['low', 754],\n",
       " ['public', 754],\n",
       " ['man.', 752],\n",
       " ['Let', 752],\n",
       " ['him;', 749],\n",
       " ['als', 747],\n",
       " [\"he's\", 746],\n",
       " ['aber', 746],\n",
       " ['former', 745],\n",
       " ['possible', 745],\n",
       " ['follow', 744],\n",
       " ['appear', 741],\n",
       " ['further', 741],\n",
       " ['opinion', 741],\n",
       " ['city', 740],\n",
       " ['consider', 740],\n",
       " ['all.', 739],\n",
       " ['HERRN', 739],\n",
       " ['ground', 738],\n",
       " ['sein', 735],\n",
       " ['yes', 735],\n",
       " ['Anne', 734],\n",
       " [\"didn't\", 734],\n",
       " ['added', 732],\n",
       " ['shalt', 730],\n",
       " ['doth', 728],\n",
       " [\"wou'd\", 727],\n",
       " ['pass', 727],\n",
       " ['House', 725],\n",
       " ['cold', 724],\n",
       " ['except', 722],\n",
       " ['arms', 722],\n",
       " ['black', 721],\n",
       " ['alle', 720],\n",
       " ['show', 719],\n",
       " ['behold', 718],\n",
       " ['Jesus', 718],\n",
       " ['vor', 717],\n",
       " ['view', 716],\n",
       " ['daughter', 715],\n",
       " ['sister', 715],\n",
       " ['Love', 714],\n",
       " ['Prince', 713],\n",
       " ['dare', 711],\n",
       " ['longer', 707],\n",
       " ['seeing', 707],\n",
       " ['greatest', 706],\n",
       " ['clear', 705],\n",
       " ['sit', 702],\n",
       " ['ill', 698],\n",
       " [\"there's\", 697],\n",
       " ['Master', 690],\n",
       " ['interest', 689],\n",
       " ['led', 689],\n",
       " ['company', 688],\n",
       " ['try', 686],\n",
       " ['wanted', 686],\n",
       " ['dark', 685],\n",
       " ['master', 684],\n",
       " ['One', 681],\n",
       " ['carried', 678],\n",
       " ['force', 678],\n",
       " ['Her', 677],\n",
       " ['People', 676],\n",
       " ['peace', 674],\n",
       " ['Sohn', 673],\n",
       " ['wise', 673],\n",
       " ['early', 673],\n",
       " ['Nature', 672],\n",
       " ['Of', 672],\n",
       " ['idea', 672],\n",
       " ['deal', 671],\n",
       " ['honest', 669],\n",
       " ['written', 667],\n",
       " ['blood', 666],\n",
       " ['real', 665],\n",
       " ['Do', 665],\n",
       " ['seine', 664],\n",
       " ['fellow', 664],\n",
       " ['fit', 663],\n",
       " ['Your', 662],\n",
       " ['evening', 660],\n",
       " ['occasion', 658],\n",
       " ['whatever', 658],\n",
       " ['me;', 658],\n",
       " ['character', 657],\n",
       " ['law', 657],\n",
       " ['cast', 656],\n",
       " ['Time', 655],\n",
       " ['doing', 654],\n",
       " ['hardly', 654],\n",
       " ['im', 653],\n",
       " ['easy', 653],\n",
       " ['fact', 652],\n",
       " ['Is', 652],\n",
       " ['followed', 651],\n",
       " ['May', 645],\n",
       " ['regard', 644],\n",
       " [\"you'll\", 643],\n",
       " ['became', 641],\n",
       " ['six', 638],\n",
       " ['age', 638],\n",
       " ['you?', 638],\n",
       " ['noble', 638],\n",
       " ['aus', 635],\n",
       " ['OF', 634],\n",
       " ['thank', 634],\n",
       " ['he.', 633],\n",
       " ['purpose', 632],\n",
       " ['s', 632],\n",
       " ['French', 631],\n",
       " ['effect', 631],\n",
       " ['sea', 629],\n",
       " ['appeared', 625],\n",
       " ['bed', 625],\n",
       " ['thoughts', 625],\n",
       " ['By', 624],\n",
       " ['England', 623],\n",
       " ['carry', 621],\n",
       " ['across', 620],\n",
       " ['yourself', 617],\n",
       " ['plain', 617],\n",
       " ['I.', 617],\n",
       " ['worth', 616],\n",
       " ['nach', 616],\n",
       " ['thinking', 616],\n",
       " ['uncle', 615],\n",
       " ['object', 614],\n",
       " ['expect', 614],\n",
       " ['World', 613],\n",
       " ['now.', 612],\n",
       " ['wonder', 612],\n",
       " ['knowledge', 612],\n",
       " ['Charles', 611],\n",
       " ['trust', 610],\n",
       " ['thine', 610],\n",
       " ['length', 609],\n",
       " ['unless', 609],\n",
       " ['um', 609],\n",
       " ['Und', 605],\n",
       " ['twenty', 605],\n",
       " ['husband', 605],\n",
       " ['respect', 604],\n",
       " ['Life', 603],\n",
       " ['rich', 602],\n",
       " ['ha', 600],\n",
       " ['equal', 599],\n",
       " ['mir', 599],\n",
       " ['bright', 599],\n",
       " ['beautiful', 598],\n",
       " ['vain', 597],\n",
       " ['walk', 596],\n",
       " ['parts', 592],\n",
       " ['single', 592],\n",
       " ['generally', 592],\n",
       " ['line', 592],\n",
       " ['gives', 590],\n",
       " ['strength', 589],\n",
       " ['über', 588],\n",
       " ['wait', 588],\n",
       " ['Oh', 588],\n",
       " [\"you're\", 587],\n",
       " ['al', 586],\n",
       " ['big', 586],\n",
       " ['especially', 582],\n",
       " ['gentle', 581],\n",
       " ['them;', 580],\n",
       " ['not.', 579],\n",
       " ['ere', 578],\n",
       " ['born', 578],\n",
       " ['David', 576],\n",
       " ['London', 575],\n",
       " ['ran', 575],\n",
       " ['learned', 574],\n",
       " ['König', 574],\n",
       " ['around', 574],\n",
       " ['so.', 574],\n",
       " ['giving', 573],\n",
       " ['book', 573],\n",
       " ['visit', 572],\n",
       " ['wrong', 572],\n",
       " ['worthy', 572],\n",
       " ['dir', 570],\n",
       " ['usual', 570],\n",
       " ['wild', 570],\n",
       " ['living', 570],\n",
       " ['time.', 569],\n",
       " ['play', 568],\n",
       " ['arm', 567],\n",
       " ['feeling', 567],\n",
       " ['easily', 567],\n",
       " ['Church', 566],\n",
       " ['trouble', 566],\n",
       " ['more.', 564],\n",
       " ['joy', 563],\n",
       " ['fortune', 563],\n",
       " ['rise', 562],\n",
       " ['grace', 561],\n",
       " ['us.', 561],\n",
       " ['private', 561],\n",
       " ['soft', 560],\n",
       " ['rose', 560],\n",
       " ['secret', 560],\n",
       " ['speaking', 559],\n",
       " ['persons', 559],\n",
       " ['begin', 559],\n",
       " ['draw', 556],\n",
       " ['toward', 555],\n",
       " ['forward', 555],\n",
       " ['entered', 554],\n",
       " ['On', 553],\n",
       " ['that.', 553],\n",
       " ['walked', 553],\n",
       " ['pride', 552],\n",
       " ['meant', 552],\n",
       " ['everything', 551],\n",
       " ['`I', 551],\n",
       " ['instead', 548],\n",
       " [\"'em\", 548],\n",
       " ['sind', 548],\n",
       " ['tears', 547],\n",
       " ['break', 546],\n",
       " ['false', 543],\n",
       " ['werden', 543],\n",
       " ['service', 541],\n",
       " ['bound', 541],\n",
       " ['turning', 540],\n",
       " ['mouth', 538],\n",
       " ['e', 538],\n",
       " ['Hand', 538],\n",
       " ['week', 538],\n",
       " ['mich', 538],\n",
       " ['address', 538],\n",
       " ['mighty', 537],\n",
       " ['auch', 536],\n",
       " ['Son', 536],\n",
       " ['passion', 536],\n",
       " ['sitting', 535],\n",
       " ['eat', 535],\n",
       " ['beginning', 535],\n",
       " ['concerning', 535],\n",
       " ['sake', 533],\n",
       " ['pleased', 531],\n",
       " ['day.', 530],\n",
       " ['Dr.', 529],\n",
       " ['worse', 529],\n",
       " ['sun', 528],\n",
       " ['looks', 527],\n",
       " ['opened', 527],\n",
       " ['road', 526],\n",
       " ['tender', 526],\n",
       " ['že', 525],\n",
       " ['gentlemen', 525],\n",
       " ['da', 525],\n",
       " ['soll', 524],\n",
       " ['ancient', 522],\n",
       " ['paid', 521],\n",
       " ['sleep', 521],\n",
       " ['drew', 520],\n",
       " ['contrary', 520],\n",
       " ['sir.', 519],\n",
       " ['married', 519],\n",
       " ['With', 519],\n",
       " ['dich', 519],\n",
       " ['evil', 518],\n",
       " [\"I'd\", 518],\n",
       " ['chief', 518],\n",
       " ['sudden', 518],\n",
       " ['away.', 518],\n",
       " ['sufficient', 517],\n",
       " ['Christ', 516],\n",
       " ['marry', 516],\n",
       " ['faith', 515],\n",
       " ['Lucy', 515],\n",
       " ['perfect', 514],\n",
       " ['youth', 514],\n",
       " ['repeated', 513],\n",
       " ['said:', 513],\n",
       " ['prove', 513],\n",
       " ['Duke', 512],\n",
       " ['latter', 512],\n",
       " ['proud', 512],\n",
       " ['sorry', 511],\n",
       " ['besides', 511],\n",
       " ['suddenly', 511],\n",
       " ['la', 511],\n",
       " ['it?', 510],\n",
       " [')', 509],\n",
       " ['obliged', 509],\n",
       " ['Ile', 508],\n",
       " ['“You', 508],\n",
       " ['figure', 507],\n",
       " ['charge', 507],\n",
       " ['na', 507],\n",
       " ['considered', 506],\n",
       " ['hair', 505],\n",
       " ['places', 505],\n",
       " ['way.', 504],\n",
       " ['nearly', 503],\n",
       " ['Friend', 503],\n",
       " ['red', 502],\n",
       " ['drawn', 502],\n",
       " ['particularly', 501],\n",
       " ['standing', 501],\n",
       " ['getting', 501],\n",
       " ['forget', 500],\n",
       " ['table', 500],\n",
       " ['future', 500],\n",
       " ['goes', 500],\n",
       " ['wir', 499],\n",
       " ['Power', 499],\n",
       " ['seven', 499],\n",
       " [\"thro'\", 499],\n",
       " ['Not', 499],\n",
       " ['there.', 498],\n",
       " ['impossible', 497],\n",
       " ['him:', 497],\n",
       " ['hate', 495],\n",
       " ['hours', 495],\n",
       " ['4', 494],\n",
       " ['afterwards', 493],\n",
       " ['offer', 493],\n",
       " ['sad', 492],\n",
       " ['für', 492],\n",
       " ['Queen', 491],\n",
       " ['chance', 490],\n",
       " ['out.', 490],\n",
       " ['below', 489],\n",
       " ['Mary', 487],\n",
       " ['serve', 485],\n",
       " ['ship', 484],\n",
       " ['story', 484],\n",
       " ['wind', 482],\n",
       " ['tried', 481],\n",
       " ['observe', 481],\n",
       " ['non', 480],\n",
       " ['struck', 479],\n",
       " ['lose', 479],\n",
       " ['knowing', 479],\n",
       " ['lie', 478],\n",
       " ['Thou', 478],\n",
       " ['beauty', 477],\n",
       " ['foot', 477],\n",
       " ['expected', 477],\n",
       " ['fast', 476],\n",
       " ['Will', 476],\n",
       " ['George', 476],\n",
       " ['learn', 476],\n",
       " ['Honour', 476],\n",
       " ['on.', 475],\n",
       " ['wenn', 474],\n",
       " ['other.', 474],\n",
       " ['thee.', 473],\n",
       " ['angry', 473],\n",
       " ['loved', 472],\n",
       " ['third', 472],\n",
       " ['heaven', 471],\n",
       " ['happened', 469],\n",
       " ['various', 469],\n",
       " ['whilst', 468],\n",
       " ['These', 468],\n",
       " ['probably', 468],\n",
       " ['appears', 467],\n",
       " [\"It's\", 467],\n",
       " ['saith', 466],\n",
       " ['servant', 465],\n",
       " ['lived', 465],\n",
       " ['mein', 465],\n",
       " ['lest', 464],\n",
       " ['allow', 463],\n",
       " [\"o'er\", 463],\n",
       " ['later', 463],\n",
       " ['degree', 463],\n",
       " ['Come', 462],\n",
       " ['supposed', 462],\n",
       " ['wide', 461],\n",
       " ['life.', 461],\n",
       " ['virtue', 460],\n",
       " ['wrote', 459],\n",
       " ['broken', 459],\n",
       " ['presently', 458],\n",
       " ['report', 458],\n",
       " ['Parliament', 458],\n",
       " ...]"
      ]
     },
     "execution_count": 18,
     "metadata": {},
     "output_type": "execute_result"
    }
   ],
   "source": [
    "to_list"
   ]
  },
  {
   "cell_type": "code",
   "execution_count": 19,
   "metadata": {
    "scrolled": true
   },
   "outputs": [
    {
     "data": {
      "text/plain": [
       "311334"
      ]
     },
     "execution_count": 19,
     "metadata": {},
     "output_type": "execute_result"
    }
   ],
   "source": [
    "311334"
   ]
  },
  {
   "cell_type": "code",
   "execution_count": 33,
   "metadata": {},
   "outputs": [
    {
     "name": "stdout",
     "output_type": "stream",
     "text": [
      "+---+---------------+-------------------------+\n",
      "|id |words          |features                 |\n",
      "+---+---------------+-------------------------+\n",
      "|0  |[a, b, c]      |(3,[0,1,2],[1.0,1.0,1.0])|\n",
      "|1  |[a, b, b, c, a]|(3,[0,1,2],[2.0,2.0,1.0])|\n",
      "+---+---------------+-------------------------+\n",
      "\n"
     ]
    }
   ],
   "source": [
    "from pyspark.ml.feature import CountVectorizer\n",
    "\n",
    "# test\n",
    "# Input data: Each row is a bag of words with a ID.\n",
    "dftest = spark.createDataFrame([\n",
    "    (0, \"a b c\".split(\" \")),\n",
    "    (1, \"a b b c a\".split(\" \"))\n",
    "], [\"id\", \"words\"])\n",
    "\n",
    "# fit a CountVectorizerModel from the corpus.\n",
    "cv = CountVectorizer(inputCol=\"words\", outputCol=\"features\", vocabSize=3, minDF=2.0)\n",
    "\n",
    "model = cv.fit(dftest)\n",
    "\n",
    "result = model.transform(dftest)\n",
    "result.show(truncate=False)\n",
    "\n"
   ]
  },
  {
   "cell_type": "code",
   "execution_count": 34,
   "metadata": {},
   "outputs": [
    {
     "name": "stdout",
     "output_type": "stream",
     "text": [
      "+-----+--------------------+---------+--------------------+\n",
      "|label|                 txt|wordCount|               words|\n",
      "+-----+--------------------+---------+--------------------+\n",
      "|  ham|Go until jurong p...|       20|[go, until, juron...|\n",
      "|  ham|Ok lar... Joking ...|        6|[ok, lar, joking,...|\n",
      "| spam|Free entry in 2 a...|       28|[free, entry, in,...|\n",
      "|  ham|U dun say so earl...|       11|[u, dun, say, so,...|\n",
      "|  ham|Nah I don't think...|       13|[nah, i, don, t, ...|\n",
      "| spam|FreeMsg Hey there...|       32|[freemsg, hey, th...|\n",
      "|  ham|Even my brother i...|       16|[even, my, brothe...|\n",
      "|  ham|As per your reque...|       26|[as, per, your, r...|\n",
      "| spam|WINNER!! As a val...|       26|[winner, as, a, v...|\n",
      "| spam|Had your mobile 1...|       29|[had, your, mobil...|\n",
      "|  ham|I'm gonna be home...|       21|[i, m, gonna, be,...|\n",
      "| spam|SIX chances to wi...|       26|[six, chances, to...|\n",
      "| spam|URGENT! You have ...|       26|[urgent, you, hav...|\n",
      "|  ham|I've been searchi...|       37|[i, ve, been, sea...|\n",
      "|  ham|I HAVE A DATE ON ...|        8|[i, have, a, date...|\n",
      "| spam|XXXMobileMovieClu...|       19|[xxxmobilemoviecl...|\n",
      "|  ham|Oh k...i'm watchi...|        4|[oh, k, i, m, wat...|\n",
      "|  ham|Eh u remember how...|       19|[eh, u, remember,...|\n",
      "|  ham|Fine if thatåÕs t...|       13|[fine, if, that, ...|\n",
      "| spam|England v Macedon...|       24|[england, v, mace...|\n",
      "+-----+--------------------+---------+--------------------+\n",
      "only showing top 20 rows\n",
      "\n"
     ]
    }
   ],
   "source": [
    "from pyspark.ml.feature import Tokenizer, RegexTokenizer\n",
    "from pyspark.sql.functions import col, udf\n",
    "from pyspark.sql.types import IntegerType\n",
    "\n",
    "tokenizer = Tokenizer(inputCol=\"txt\", outputCol=\"words\")\n",
    "\n",
    "regexTokenizer = RegexTokenizer(inputCol=\"txt\", outputCol=\"words\", pattern=\"\\\\W\")\n",
    "# alternatively, pattern=\"\\\\w+\", gaps(False)\n",
    "\n",
    "countTokens = udf(lambda words: len(words), IntegerType())\n",
    "\n",
    "tokenized = tokenizer.transform(df)\n",
    "\n",
    "regexTokenized = regexTokenizer.transform(df)\n",
    "\n",
    "regexTokenized.show()"
   ]
  },
  {
   "cell_type": "markdown",
   "metadata": {},
   "source": [
    "## Remove stop words"
   ]
  },
  {
   "cell_type": "code",
   "execution_count": 35,
   "metadata": {},
   "outputs": [
    {
     "name": "stdout",
     "output_type": "stream",
     "text": [
      "+-----+--------------------+---------+--------------------+--------------------+\n",
      "|label|                 txt|wordCount|               words|            filtered|\n",
      "+-----+--------------------+---------+--------------------+--------------------+\n",
      "|  ham|Go until jurong p...|       20|[go, until, juron...|[go, jurong, poin...|\n",
      "|  ham|Ok lar... Joking ...|        6|[ok, lar, joking,...|[ok, lar, joking,...|\n",
      "| spam|Free entry in 2 a...|       28|[free, entry, in,...|[free, entry, 2, ...|\n",
      "|  ham|U dun say so earl...|       11|[u, dun, say, so,...|[u, dun, say, ear...|\n",
      "|  ham|Nah I don't think...|       13|[nah, i, don, t, ...|[nah, think, goes...|\n",
      "| spam|FreeMsg Hey there...|       32|[freemsg, hey, th...|[freemsg, hey, da...|\n",
      "|  ham|Even my brother i...|       16|[even, my, brothe...|[even, brother, l...|\n",
      "|  ham|As per your reque...|       26|[as, per, your, r...|[per, request, me...|\n",
      "| spam|WINNER!! As a val...|       26|[winner, as, a, v...|[winner, valued, ...|\n",
      "| spam|Had your mobile 1...|       29|[had, your, mobil...|[mobile, 11, mont...|\n",
      "|  ham|I'm gonna be home...|       21|[i, m, gonna, be,...|[m, gonna, home, ...|\n",
      "| spam|SIX chances to wi...|       26|[six, chances, to...|[six, chances, wi...|\n",
      "| spam|URGENT! You have ...|       26|[urgent, you, hav...|[urgent, won, 1, ...|\n",
      "|  ham|I've been searchi...|       37|[i, ve, been, sea...|[ve, searching, r...|\n",
      "|  ham|I HAVE A DATE ON ...|        8|[i, have, a, date...|      [date, sunday]|\n",
      "| spam|XXXMobileMovieClu...|       19|[xxxmobilemoviecl...|[xxxmobilemoviecl...|\n",
      "|  ham|Oh k...i'm watchi...|        4|[oh, k, i, m, wat...|[oh, k, m, watching]|\n",
      "|  ham|Eh u remember how...|       19|[eh, u, remember,...|[eh, u, remember,...|\n",
      "|  ham|Fine if thatåÕs t...|       13|[fine, if, that, ...|[fine, way, u, fe...|\n",
      "| spam|England v Macedon...|       24|[england, v, mace...|[england, v, mace...|\n",
      "+-----+--------------------+---------+--------------------+--------------------+\n",
      "only showing top 20 rows\n",
      "\n"
     ]
    }
   ],
   "source": [
    "from pyspark.ml.feature import StopWordsRemover\n",
    "\n",
    "remover = StopWordsRemover(inputCol=\"words\", outputCol=\"filtered\")\n",
    "data = remover.transform(regexTokenized).show()"
   ]
  },
  {
   "cell_type": "code",
   "execution_count": 36,
   "metadata": {},
   "outputs": [],
   "source": [
    "data = remover.transform(regexTokenized)"
   ]
  },
  {
   "cell_type": "code",
   "execution_count": 37,
   "metadata": {},
   "outputs": [
    {
     "name": "stdout",
     "output_type": "stream",
     "text": [
      "+-----+--------------------+---------+--------------------+--------------------+\n",
      "|label|                 txt|wordCount|               words|            filtered|\n",
      "+-----+--------------------+---------+--------------------+--------------------+\n",
      "|  ham|Go until jurong p...|       20|[go, until, juron...|[go, jurong, poin...|\n",
      "|  ham|Ok lar... Joking ...|        6|[ok, lar, joking,...|[ok, lar, joking,...|\n",
      "| spam|Free entry in 2 a...|       28|[free, entry, in,...|[free, entry, 2, ...|\n",
      "|  ham|U dun say so earl...|       11|[u, dun, say, so,...|[u, dun, say, ear...|\n",
      "|  ham|Nah I don't think...|       13|[nah, i, don, t, ...|[nah, think, goes...|\n",
      "| spam|FreeMsg Hey there...|       32|[freemsg, hey, th...|[freemsg, hey, da...|\n",
      "|  ham|Even my brother i...|       16|[even, my, brothe...|[even, brother, l...|\n",
      "|  ham|As per your reque...|       26|[as, per, your, r...|[per, request, me...|\n",
      "| spam|WINNER!! As a val...|       26|[winner, as, a, v...|[winner, valued, ...|\n",
      "| spam|Had your mobile 1...|       29|[had, your, mobil...|[mobile, 11, mont...|\n",
      "|  ham|I'm gonna be home...|       21|[i, m, gonna, be,...|[m, gonna, home, ...|\n",
      "| spam|SIX chances to wi...|       26|[six, chances, to...|[six, chances, wi...|\n",
      "| spam|URGENT! You have ...|       26|[urgent, you, hav...|[urgent, won, 1, ...|\n",
      "|  ham|I've been searchi...|       37|[i, ve, been, sea...|[ve, searching, r...|\n",
      "|  ham|I HAVE A DATE ON ...|        8|[i, have, a, date...|      [date, sunday]|\n",
      "| spam|XXXMobileMovieClu...|       19|[xxxmobilemoviecl...|[xxxmobilemoviecl...|\n",
      "|  ham|Oh k...i'm watchi...|        4|[oh, k, i, m, wat...|[oh, k, m, watching]|\n",
      "|  ham|Eh u remember how...|       19|[eh, u, remember,...|[eh, u, remember,...|\n",
      "|  ham|Fine if thatåÕs t...|       13|[fine, if, that, ...|[fine, way, u, fe...|\n",
      "| spam|England v Macedon...|       24|[england, v, mace...|[england, v, mace...|\n",
      "+-----+--------------------+---------+--------------------+--------------------+\n",
      "only showing top 20 rows\n",
      "\n"
     ]
    }
   ],
   "source": [
    "data.show()\n",
    "\n"
   ]
  },
  {
   "cell_type": "code",
   "execution_count": 39,
   "metadata": {},
   "outputs": [
    {
     "ename": "Py4JJavaError",
     "evalue": "An error occurred while calling o752.fit.\n: org.apache.spark.SparkException: Job aborted due to stage failure: Task 0 in stage 43.0 failed 1 times, most recent failure: Lost task 0.0 in stage 43.0 (TID 671, localhost, executor driver): org.apache.spark.SparkException: Failed to execute user defined function($anonfun$createTransformFunc$2: (string) => array<string>)\n\tat org.apache.spark.sql.catalyst.expressions.GeneratedClass$GeneratedIteratorForCodegenStage1.processNext(Unknown Source)\n\tat org.apache.spark.sql.execution.BufferedRowIterator.hasNext(BufferedRowIterator.java:43)\n\tat org.apache.spark.sql.execution.WholeStageCodegenExec$$anonfun$11$$anon$1.hasNext(WholeStageCodegenExec.scala:619)\n\tat scala.collection.Iterator$$anon$11.hasNext(Iterator.scala:409)\n\tat scala.collection.Iterator$$anon$11.hasNext(Iterator.scala:409)\n\tat scala.collection.Iterator$$anon$11.hasNext(Iterator.scala:409)\n\tat scala.collection.Iterator$$anon$12.hasNext(Iterator.scala:440)\n\tat org.apache.spark.util.collection.ExternalSorter.insertAll(ExternalSorter.scala:191)\n\tat org.apache.spark.shuffle.sort.SortShuffleWriter.write(SortShuffleWriter.scala:62)\n\tat org.apache.spark.scheduler.ShuffleMapTask.runTask(ShuffleMapTask.scala:99)\n\tat org.apache.spark.scheduler.ShuffleMapTask.runTask(ShuffleMapTask.scala:55)\n\tat org.apache.spark.scheduler.Task.run(Task.scala:121)\n\tat org.apache.spark.executor.Executor$TaskRunner$$anonfun$10.apply(Executor.scala:402)\n\tat org.apache.spark.util.Utils$.tryWithSafeFinally(Utils.scala:1360)\n\tat org.apache.spark.executor.Executor$TaskRunner.run(Executor.scala:408)\n\tat java.util.concurrent.ThreadPoolExecutor.runWorker(ThreadPoolExecutor.java:1149)\n\tat java.util.concurrent.ThreadPoolExecutor$Worker.run(ThreadPoolExecutor.java:624)\n\tat java.lang.Thread.run(Thread.java:748)\nCaused by: java.lang.NullPointerException\n\tat org.apache.spark.ml.feature.RegexTokenizer$$anonfun$createTransformFunc$2.apply(Tokenizer.scala:143)\n\tat org.apache.spark.ml.feature.RegexTokenizer$$anonfun$createTransformFunc$2.apply(Tokenizer.scala:141)\n\t... 18 more\n\nDriver stacktrace:\n\tat org.apache.spark.scheduler.DAGScheduler.org$apache$spark$scheduler$DAGScheduler$$failJobAndIndependentStages(DAGScheduler.scala:1887)\n\tat org.apache.spark.scheduler.DAGScheduler$$anonfun$abortStage$1.apply(DAGScheduler.scala:1875)\n\tat org.apache.spark.scheduler.DAGScheduler$$anonfun$abortStage$1.apply(DAGScheduler.scala:1874)\n\tat scala.collection.mutable.ResizableArray$class.foreach(ResizableArray.scala:59)\n\tat scala.collection.mutable.ArrayBuffer.foreach(ArrayBuffer.scala:48)\n\tat org.apache.spark.scheduler.DAGScheduler.abortStage(DAGScheduler.scala:1874)\n\tat org.apache.spark.scheduler.DAGScheduler$$anonfun$handleTaskSetFailed$1.apply(DAGScheduler.scala:926)\n\tat org.apache.spark.scheduler.DAGScheduler$$anonfun$handleTaskSetFailed$1.apply(DAGScheduler.scala:926)\n\tat scala.Option.foreach(Option.scala:257)\n\tat org.apache.spark.scheduler.DAGScheduler.handleTaskSetFailed(DAGScheduler.scala:926)\n\tat org.apache.spark.scheduler.DAGSchedulerEventProcessLoop.doOnReceive(DAGScheduler.scala:2108)\n\tat org.apache.spark.scheduler.DAGSchedulerEventProcessLoop.onReceive(DAGScheduler.scala:2057)\n\tat org.apache.spark.scheduler.DAGSchedulerEventProcessLoop.onReceive(DAGScheduler.scala:2046)\n\tat org.apache.spark.util.EventLoop$$anon$1.run(EventLoop.scala:49)\n\tat org.apache.spark.scheduler.DAGScheduler.runJob(DAGScheduler.scala:737)\n\tat org.apache.spark.SparkContext.runJob(SparkContext.scala:2061)\n\tat org.apache.spark.SparkContext.runJob(SparkContext.scala:2082)\n\tat org.apache.spark.SparkContext.runJob(SparkContext.scala:2101)\n\tat org.apache.spark.SparkContext.runJob(SparkContext.scala:2126)\n\tat org.apache.spark.rdd.RDD.count(RDD.scala:1168)\n\tat org.apache.spark.ml.feature.CountVectorizer.fit(CountVectorizer.scala:230)\n\tat sun.reflect.NativeMethodAccessorImpl.invoke0(Native Method)\n\tat sun.reflect.NativeMethodAccessorImpl.invoke(NativeMethodAccessorImpl.java:62)\n\tat sun.reflect.DelegatingMethodAccessorImpl.invoke(DelegatingMethodAccessorImpl.java:43)\n\tat java.lang.reflect.Method.invoke(Method.java:498)\n\tat py4j.reflection.MethodInvoker.invoke(MethodInvoker.java:244)\n\tat py4j.reflection.ReflectionEngine.invoke(ReflectionEngine.java:357)\n\tat py4j.Gateway.invoke(Gateway.java:282)\n\tat py4j.commands.AbstractCommand.invokeMethod(AbstractCommand.java:132)\n\tat py4j.commands.CallCommand.execute(CallCommand.java:79)\n\tat py4j.GatewayConnection.run(GatewayConnection.java:238)\n\tat java.lang.Thread.run(Thread.java:748)\nCaused by: org.apache.spark.SparkException: Failed to execute user defined function($anonfun$createTransformFunc$2: (string) => array<string>)\n\tat org.apache.spark.sql.catalyst.expressions.GeneratedClass$GeneratedIteratorForCodegenStage1.processNext(Unknown Source)\n\tat org.apache.spark.sql.execution.BufferedRowIterator.hasNext(BufferedRowIterator.java:43)\n\tat org.apache.spark.sql.execution.WholeStageCodegenExec$$anonfun$11$$anon$1.hasNext(WholeStageCodegenExec.scala:619)\n\tat scala.collection.Iterator$$anon$11.hasNext(Iterator.scala:409)\n\tat scala.collection.Iterator$$anon$11.hasNext(Iterator.scala:409)\n\tat scala.collection.Iterator$$anon$11.hasNext(Iterator.scala:409)\n\tat scala.collection.Iterator$$anon$12.hasNext(Iterator.scala:440)\n\tat org.apache.spark.util.collection.ExternalSorter.insertAll(ExternalSorter.scala:191)\n\tat org.apache.spark.shuffle.sort.SortShuffleWriter.write(SortShuffleWriter.scala:62)\n\tat org.apache.spark.scheduler.ShuffleMapTask.runTask(ShuffleMapTask.scala:99)\n\tat org.apache.spark.scheduler.ShuffleMapTask.runTask(ShuffleMapTask.scala:55)\n\tat org.apache.spark.scheduler.Task.run(Task.scala:121)\n\tat org.apache.spark.executor.Executor$TaskRunner$$anonfun$10.apply(Executor.scala:402)\n\tat org.apache.spark.util.Utils$.tryWithSafeFinally(Utils.scala:1360)\n\tat org.apache.spark.executor.Executor$TaskRunner.run(Executor.scala:408)\n\tat java.util.concurrent.ThreadPoolExecutor.runWorker(ThreadPoolExecutor.java:1149)\n\tat java.util.concurrent.ThreadPoolExecutor$Worker.run(ThreadPoolExecutor.java:624)\n\t... 1 more\nCaused by: java.lang.NullPointerException\n\tat org.apache.spark.ml.feature.RegexTokenizer$$anonfun$createTransformFunc$2.apply(Tokenizer.scala:143)\n\tat org.apache.spark.ml.feature.RegexTokenizer$$anonfun$createTransformFunc$2.apply(Tokenizer.scala:141)\n\t... 18 more\n",
     "output_type": "error",
     "traceback": [
      "\u001b[0;31m---------------------------------------------------------------------------\u001b[0m",
      "\u001b[0;31mPy4JJavaError\u001b[0m                             Traceback (most recent call last)",
      "\u001b[0;32m<ipython-input-39-6e12dd995411>\u001b[0m in \u001b[0;36m<module>\u001b[0;34m\u001b[0m\n\u001b[1;32m      4\u001b[0m \u001b[0mcv\u001b[0m \u001b[0;34m=\u001b[0m \u001b[0mCountVectorizer\u001b[0m\u001b[0;34m(\u001b[0m\u001b[0minputCol\u001b[0m\u001b[0;34m=\u001b[0m\u001b[0;34m\"words\"\u001b[0m\u001b[0;34m,\u001b[0m \u001b[0moutputCol\u001b[0m\u001b[0;34m=\u001b[0m\u001b[0;34m\"features\"\u001b[0m\u001b[0;34m,\u001b[0m \u001b[0mvocabSize\u001b[0m\u001b[0;34m=\u001b[0m\u001b[0;36m311334\u001b[0m\u001b[0;34m,\u001b[0m \u001b[0mminDF\u001b[0m\u001b[0;34m=\u001b[0m\u001b[0;36m2.0\u001b[0m\u001b[0;34m)\u001b[0m\u001b[0;34m\u001b[0m\u001b[0;34m\u001b[0m\u001b[0m\n\u001b[1;32m      5\u001b[0m \u001b[0;34m\u001b[0m\u001b[0m\n\u001b[0;32m----> 6\u001b[0;31m \u001b[0mmodel\u001b[0m \u001b[0;34m=\u001b[0m \u001b[0mcv\u001b[0m\u001b[0;34m.\u001b[0m\u001b[0mfit\u001b[0m\u001b[0;34m(\u001b[0m\u001b[0mdata\u001b[0m\u001b[0;34m)\u001b[0m\u001b[0;34m\u001b[0m\u001b[0;34m\u001b[0m\u001b[0m\n\u001b[0m\u001b[1;32m      7\u001b[0m \u001b[0;34m\u001b[0m\u001b[0m\n\u001b[1;32m      8\u001b[0m \u001b[0mresult\u001b[0m \u001b[0;34m=\u001b[0m \u001b[0mmodel\u001b[0m\u001b[0;34m.\u001b[0m\u001b[0mtransform\u001b[0m\u001b[0;34m(\u001b[0m\u001b[0mdata\u001b[0m\u001b[0;34m)\u001b[0m\u001b[0;34m\u001b[0m\u001b[0;34m\u001b[0m\u001b[0m\n",
      "\u001b[0;32m~/anaconda3/lib/python3.7/site-packages/pyspark/ml/base.py\u001b[0m in \u001b[0;36mfit\u001b[0;34m(self, dataset, params)\u001b[0m\n\u001b[1;32m    130\u001b[0m                 \u001b[0;32mreturn\u001b[0m \u001b[0mself\u001b[0m\u001b[0;34m.\u001b[0m\u001b[0mcopy\u001b[0m\u001b[0;34m(\u001b[0m\u001b[0mparams\u001b[0m\u001b[0;34m)\u001b[0m\u001b[0;34m.\u001b[0m\u001b[0m_fit\u001b[0m\u001b[0;34m(\u001b[0m\u001b[0mdataset\u001b[0m\u001b[0;34m)\u001b[0m\u001b[0;34m\u001b[0m\u001b[0;34m\u001b[0m\u001b[0m\n\u001b[1;32m    131\u001b[0m             \u001b[0;32melse\u001b[0m\u001b[0;34m:\u001b[0m\u001b[0;34m\u001b[0m\u001b[0;34m\u001b[0m\u001b[0m\n\u001b[0;32m--> 132\u001b[0;31m                 \u001b[0;32mreturn\u001b[0m \u001b[0mself\u001b[0m\u001b[0;34m.\u001b[0m\u001b[0m_fit\u001b[0m\u001b[0;34m(\u001b[0m\u001b[0mdataset\u001b[0m\u001b[0;34m)\u001b[0m\u001b[0;34m\u001b[0m\u001b[0;34m\u001b[0m\u001b[0m\n\u001b[0m\u001b[1;32m    133\u001b[0m         \u001b[0;32melse\u001b[0m\u001b[0;34m:\u001b[0m\u001b[0;34m\u001b[0m\u001b[0;34m\u001b[0m\u001b[0m\n\u001b[1;32m    134\u001b[0m             raise ValueError(\"Params must be either a param map or a list/tuple of param maps, \"\n",
      "\u001b[0;32m~/anaconda3/lib/python3.7/site-packages/pyspark/ml/wrapper.py\u001b[0m in \u001b[0;36m_fit\u001b[0;34m(self, dataset)\u001b[0m\n\u001b[1;32m    293\u001b[0m \u001b[0;34m\u001b[0m\u001b[0m\n\u001b[1;32m    294\u001b[0m     \u001b[0;32mdef\u001b[0m \u001b[0m_fit\u001b[0m\u001b[0;34m(\u001b[0m\u001b[0mself\u001b[0m\u001b[0;34m,\u001b[0m \u001b[0mdataset\u001b[0m\u001b[0;34m)\u001b[0m\u001b[0;34m:\u001b[0m\u001b[0;34m\u001b[0m\u001b[0;34m\u001b[0m\u001b[0m\n\u001b[0;32m--> 295\u001b[0;31m         \u001b[0mjava_model\u001b[0m \u001b[0;34m=\u001b[0m \u001b[0mself\u001b[0m\u001b[0;34m.\u001b[0m\u001b[0m_fit_java\u001b[0m\u001b[0;34m(\u001b[0m\u001b[0mdataset\u001b[0m\u001b[0;34m)\u001b[0m\u001b[0;34m\u001b[0m\u001b[0;34m\u001b[0m\u001b[0m\n\u001b[0m\u001b[1;32m    296\u001b[0m         \u001b[0mmodel\u001b[0m \u001b[0;34m=\u001b[0m \u001b[0mself\u001b[0m\u001b[0;34m.\u001b[0m\u001b[0m_create_model\u001b[0m\u001b[0;34m(\u001b[0m\u001b[0mjava_model\u001b[0m\u001b[0;34m)\u001b[0m\u001b[0;34m\u001b[0m\u001b[0;34m\u001b[0m\u001b[0m\n\u001b[1;32m    297\u001b[0m         \u001b[0;32mreturn\u001b[0m \u001b[0mself\u001b[0m\u001b[0;34m.\u001b[0m\u001b[0m_copyValues\u001b[0m\u001b[0;34m(\u001b[0m\u001b[0mmodel\u001b[0m\u001b[0;34m)\u001b[0m\u001b[0;34m\u001b[0m\u001b[0;34m\u001b[0m\u001b[0m\n",
      "\u001b[0;32m~/anaconda3/lib/python3.7/site-packages/pyspark/ml/wrapper.py\u001b[0m in \u001b[0;36m_fit_java\u001b[0;34m(self, dataset)\u001b[0m\n\u001b[1;32m    290\u001b[0m         \"\"\"\n\u001b[1;32m    291\u001b[0m         \u001b[0mself\u001b[0m\u001b[0;34m.\u001b[0m\u001b[0m_transfer_params_to_java\u001b[0m\u001b[0;34m(\u001b[0m\u001b[0;34m)\u001b[0m\u001b[0;34m\u001b[0m\u001b[0;34m\u001b[0m\u001b[0m\n\u001b[0;32m--> 292\u001b[0;31m         \u001b[0;32mreturn\u001b[0m \u001b[0mself\u001b[0m\u001b[0;34m.\u001b[0m\u001b[0m_java_obj\u001b[0m\u001b[0;34m.\u001b[0m\u001b[0mfit\u001b[0m\u001b[0;34m(\u001b[0m\u001b[0mdataset\u001b[0m\u001b[0;34m.\u001b[0m\u001b[0m_jdf\u001b[0m\u001b[0;34m)\u001b[0m\u001b[0;34m\u001b[0m\u001b[0;34m\u001b[0m\u001b[0m\n\u001b[0m\u001b[1;32m    293\u001b[0m \u001b[0;34m\u001b[0m\u001b[0m\n\u001b[1;32m    294\u001b[0m     \u001b[0;32mdef\u001b[0m \u001b[0m_fit\u001b[0m\u001b[0;34m(\u001b[0m\u001b[0mself\u001b[0m\u001b[0;34m,\u001b[0m \u001b[0mdataset\u001b[0m\u001b[0;34m)\u001b[0m\u001b[0;34m:\u001b[0m\u001b[0;34m\u001b[0m\u001b[0;34m\u001b[0m\u001b[0m\n",
      "\u001b[0;32m~/anaconda3/lib/python3.7/site-packages/py4j/java_gateway.py\u001b[0m in \u001b[0;36m__call__\u001b[0;34m(self, *args)\u001b[0m\n\u001b[1;32m   1255\u001b[0m         \u001b[0manswer\u001b[0m \u001b[0;34m=\u001b[0m \u001b[0mself\u001b[0m\u001b[0;34m.\u001b[0m\u001b[0mgateway_client\u001b[0m\u001b[0;34m.\u001b[0m\u001b[0msend_command\u001b[0m\u001b[0;34m(\u001b[0m\u001b[0mcommand\u001b[0m\u001b[0;34m)\u001b[0m\u001b[0;34m\u001b[0m\u001b[0;34m\u001b[0m\u001b[0m\n\u001b[1;32m   1256\u001b[0m         return_value = get_return_value(\n\u001b[0;32m-> 1257\u001b[0;31m             answer, self.gateway_client, self.target_id, self.name)\n\u001b[0m\u001b[1;32m   1258\u001b[0m \u001b[0;34m\u001b[0m\u001b[0m\n\u001b[1;32m   1259\u001b[0m         \u001b[0;32mfor\u001b[0m \u001b[0mtemp_arg\u001b[0m \u001b[0;32min\u001b[0m \u001b[0mtemp_args\u001b[0m\u001b[0;34m:\u001b[0m\u001b[0;34m\u001b[0m\u001b[0;34m\u001b[0m\u001b[0m\n",
      "\u001b[0;32m~/anaconda3/lib/python3.7/site-packages/pyspark/sql/utils.py\u001b[0m in \u001b[0;36mdeco\u001b[0;34m(*a, **kw)\u001b[0m\n\u001b[1;32m     61\u001b[0m     \u001b[0;32mdef\u001b[0m \u001b[0mdeco\u001b[0m\u001b[0;34m(\u001b[0m\u001b[0;34m*\u001b[0m\u001b[0ma\u001b[0m\u001b[0;34m,\u001b[0m \u001b[0;34m**\u001b[0m\u001b[0mkw\u001b[0m\u001b[0;34m)\u001b[0m\u001b[0;34m:\u001b[0m\u001b[0;34m\u001b[0m\u001b[0;34m\u001b[0m\u001b[0m\n\u001b[1;32m     62\u001b[0m         \u001b[0;32mtry\u001b[0m\u001b[0;34m:\u001b[0m\u001b[0;34m\u001b[0m\u001b[0;34m\u001b[0m\u001b[0m\n\u001b[0;32m---> 63\u001b[0;31m             \u001b[0;32mreturn\u001b[0m \u001b[0mf\u001b[0m\u001b[0;34m(\u001b[0m\u001b[0;34m*\u001b[0m\u001b[0ma\u001b[0m\u001b[0;34m,\u001b[0m \u001b[0;34m**\u001b[0m\u001b[0mkw\u001b[0m\u001b[0;34m)\u001b[0m\u001b[0;34m\u001b[0m\u001b[0;34m\u001b[0m\u001b[0m\n\u001b[0m\u001b[1;32m     64\u001b[0m         \u001b[0;32mexcept\u001b[0m \u001b[0mpy4j\u001b[0m\u001b[0;34m.\u001b[0m\u001b[0mprotocol\u001b[0m\u001b[0;34m.\u001b[0m\u001b[0mPy4JJavaError\u001b[0m \u001b[0;32mas\u001b[0m \u001b[0me\u001b[0m\u001b[0;34m:\u001b[0m\u001b[0;34m\u001b[0m\u001b[0;34m\u001b[0m\u001b[0m\n\u001b[1;32m     65\u001b[0m             \u001b[0ms\u001b[0m \u001b[0;34m=\u001b[0m \u001b[0me\u001b[0m\u001b[0;34m.\u001b[0m\u001b[0mjava_exception\u001b[0m\u001b[0;34m.\u001b[0m\u001b[0mtoString\u001b[0m\u001b[0;34m(\u001b[0m\u001b[0;34m)\u001b[0m\u001b[0;34m\u001b[0m\u001b[0;34m\u001b[0m\u001b[0m\n",
      "\u001b[0;32m~/anaconda3/lib/python3.7/site-packages/py4j/protocol.py\u001b[0m in \u001b[0;36mget_return_value\u001b[0;34m(answer, gateway_client, target_id, name)\u001b[0m\n\u001b[1;32m    326\u001b[0m                 raise Py4JJavaError(\n\u001b[1;32m    327\u001b[0m                     \u001b[0;34m\"An error occurred while calling {0}{1}{2}.\\n\"\u001b[0m\u001b[0;34m.\u001b[0m\u001b[0;34m\u001b[0m\u001b[0;34m\u001b[0m\u001b[0m\n\u001b[0;32m--> 328\u001b[0;31m                     format(target_id, \".\", name), value)\n\u001b[0m\u001b[1;32m    329\u001b[0m             \u001b[0;32melse\u001b[0m\u001b[0;34m:\u001b[0m\u001b[0;34m\u001b[0m\u001b[0;34m\u001b[0m\u001b[0m\n\u001b[1;32m    330\u001b[0m                 raise Py4JError(\n",
      "\u001b[0;31mPy4JJavaError\u001b[0m: An error occurred while calling o752.fit.\n: org.apache.spark.SparkException: Job aborted due to stage failure: Task 0 in stage 43.0 failed 1 times, most recent failure: Lost task 0.0 in stage 43.0 (TID 671, localhost, executor driver): org.apache.spark.SparkException: Failed to execute user defined function($anonfun$createTransformFunc$2: (string) => array<string>)\n\tat org.apache.spark.sql.catalyst.expressions.GeneratedClass$GeneratedIteratorForCodegenStage1.processNext(Unknown Source)\n\tat org.apache.spark.sql.execution.BufferedRowIterator.hasNext(BufferedRowIterator.java:43)\n\tat org.apache.spark.sql.execution.WholeStageCodegenExec$$anonfun$11$$anon$1.hasNext(WholeStageCodegenExec.scala:619)\n\tat scala.collection.Iterator$$anon$11.hasNext(Iterator.scala:409)\n\tat scala.collection.Iterator$$anon$11.hasNext(Iterator.scala:409)\n\tat scala.collection.Iterator$$anon$11.hasNext(Iterator.scala:409)\n\tat scala.collection.Iterator$$anon$12.hasNext(Iterator.scala:440)\n\tat org.apache.spark.util.collection.ExternalSorter.insertAll(ExternalSorter.scala:191)\n\tat org.apache.spark.shuffle.sort.SortShuffleWriter.write(SortShuffleWriter.scala:62)\n\tat org.apache.spark.scheduler.ShuffleMapTask.runTask(ShuffleMapTask.scala:99)\n\tat org.apache.spark.scheduler.ShuffleMapTask.runTask(ShuffleMapTask.scala:55)\n\tat org.apache.spark.scheduler.Task.run(Task.scala:121)\n\tat org.apache.spark.executor.Executor$TaskRunner$$anonfun$10.apply(Executor.scala:402)\n\tat org.apache.spark.util.Utils$.tryWithSafeFinally(Utils.scala:1360)\n\tat org.apache.spark.executor.Executor$TaskRunner.run(Executor.scala:408)\n\tat java.util.concurrent.ThreadPoolExecutor.runWorker(ThreadPoolExecutor.java:1149)\n\tat java.util.concurrent.ThreadPoolExecutor$Worker.run(ThreadPoolExecutor.java:624)\n\tat java.lang.Thread.run(Thread.java:748)\nCaused by: java.lang.NullPointerException\n\tat org.apache.spark.ml.feature.RegexTokenizer$$anonfun$createTransformFunc$2.apply(Tokenizer.scala:143)\n\tat org.apache.spark.ml.feature.RegexTokenizer$$anonfun$createTransformFunc$2.apply(Tokenizer.scala:141)\n\t... 18 more\n\nDriver stacktrace:\n\tat org.apache.spark.scheduler.DAGScheduler.org$apache$spark$scheduler$DAGScheduler$$failJobAndIndependentStages(DAGScheduler.scala:1887)\n\tat org.apache.spark.scheduler.DAGScheduler$$anonfun$abortStage$1.apply(DAGScheduler.scala:1875)\n\tat org.apache.spark.scheduler.DAGScheduler$$anonfun$abortStage$1.apply(DAGScheduler.scala:1874)\n\tat scala.collection.mutable.ResizableArray$class.foreach(ResizableArray.scala:59)\n\tat scala.collection.mutable.ArrayBuffer.foreach(ArrayBuffer.scala:48)\n\tat org.apache.spark.scheduler.DAGScheduler.abortStage(DAGScheduler.scala:1874)\n\tat org.apache.spark.scheduler.DAGScheduler$$anonfun$handleTaskSetFailed$1.apply(DAGScheduler.scala:926)\n\tat org.apache.spark.scheduler.DAGScheduler$$anonfun$handleTaskSetFailed$1.apply(DAGScheduler.scala:926)\n\tat scala.Option.foreach(Option.scala:257)\n\tat org.apache.spark.scheduler.DAGScheduler.handleTaskSetFailed(DAGScheduler.scala:926)\n\tat org.apache.spark.scheduler.DAGSchedulerEventProcessLoop.doOnReceive(DAGScheduler.scala:2108)\n\tat org.apache.spark.scheduler.DAGSchedulerEventProcessLoop.onReceive(DAGScheduler.scala:2057)\n\tat org.apache.spark.scheduler.DAGSchedulerEventProcessLoop.onReceive(DAGScheduler.scala:2046)\n\tat org.apache.spark.util.EventLoop$$anon$1.run(EventLoop.scala:49)\n\tat org.apache.spark.scheduler.DAGScheduler.runJob(DAGScheduler.scala:737)\n\tat org.apache.spark.SparkContext.runJob(SparkContext.scala:2061)\n\tat org.apache.spark.SparkContext.runJob(SparkContext.scala:2082)\n\tat org.apache.spark.SparkContext.runJob(SparkContext.scala:2101)\n\tat org.apache.spark.SparkContext.runJob(SparkContext.scala:2126)\n\tat org.apache.spark.rdd.RDD.count(RDD.scala:1168)\n\tat org.apache.spark.ml.feature.CountVectorizer.fit(CountVectorizer.scala:230)\n\tat sun.reflect.NativeMethodAccessorImpl.invoke0(Native Method)\n\tat sun.reflect.NativeMethodAccessorImpl.invoke(NativeMethodAccessorImpl.java:62)\n\tat sun.reflect.DelegatingMethodAccessorImpl.invoke(DelegatingMethodAccessorImpl.java:43)\n\tat java.lang.reflect.Method.invoke(Method.java:498)\n\tat py4j.reflection.MethodInvoker.invoke(MethodInvoker.java:244)\n\tat py4j.reflection.ReflectionEngine.invoke(ReflectionEngine.java:357)\n\tat py4j.Gateway.invoke(Gateway.java:282)\n\tat py4j.commands.AbstractCommand.invokeMethod(AbstractCommand.java:132)\n\tat py4j.commands.CallCommand.execute(CallCommand.java:79)\n\tat py4j.GatewayConnection.run(GatewayConnection.java:238)\n\tat java.lang.Thread.run(Thread.java:748)\nCaused by: org.apache.spark.SparkException: Failed to execute user defined function($anonfun$createTransformFunc$2: (string) => array<string>)\n\tat org.apache.spark.sql.catalyst.expressions.GeneratedClass$GeneratedIteratorForCodegenStage1.processNext(Unknown Source)\n\tat org.apache.spark.sql.execution.BufferedRowIterator.hasNext(BufferedRowIterator.java:43)\n\tat org.apache.spark.sql.execution.WholeStageCodegenExec$$anonfun$11$$anon$1.hasNext(WholeStageCodegenExec.scala:619)\n\tat scala.collection.Iterator$$anon$11.hasNext(Iterator.scala:409)\n\tat scala.collection.Iterator$$anon$11.hasNext(Iterator.scala:409)\n\tat scala.collection.Iterator$$anon$11.hasNext(Iterator.scala:409)\n\tat scala.collection.Iterator$$anon$12.hasNext(Iterator.scala:440)\n\tat org.apache.spark.util.collection.ExternalSorter.insertAll(ExternalSorter.scala:191)\n\tat org.apache.spark.shuffle.sort.SortShuffleWriter.write(SortShuffleWriter.scala:62)\n\tat org.apache.spark.scheduler.ShuffleMapTask.runTask(ShuffleMapTask.scala:99)\n\tat org.apache.spark.scheduler.ShuffleMapTask.runTask(ShuffleMapTask.scala:55)\n\tat org.apache.spark.scheduler.Task.run(Task.scala:121)\n\tat org.apache.spark.executor.Executor$TaskRunner$$anonfun$10.apply(Executor.scala:402)\n\tat org.apache.spark.util.Utils$.tryWithSafeFinally(Utils.scala:1360)\n\tat org.apache.spark.executor.Executor$TaskRunner.run(Executor.scala:408)\n\tat java.util.concurrent.ThreadPoolExecutor.runWorker(ThreadPoolExecutor.java:1149)\n\tat java.util.concurrent.ThreadPoolExecutor$Worker.run(ThreadPoolExecutor.java:624)\n\t... 1 more\nCaused by: java.lang.NullPointerException\n\tat org.apache.spark.ml.feature.RegexTokenizer$$anonfun$createTransformFunc$2.apply(Tokenizer.scala:143)\n\tat org.apache.spark.ml.feature.RegexTokenizer$$anonfun$createTransformFunc$2.apply(Tokenizer.scala:141)\n\t... 18 more\n"
     ]
    }
   ],
   "source": [
    "# unfinished part\n",
    "from pyspark.ml.feature import CountVectorizer\n",
    "\n",
    "# fit a CountVectorizerModel from the corpus.\n",
    "cv = CountVectorizer(inputCol=\"words\", outputCol=\"features\", vocabSize=311334, minDF=2.0)\n",
    "\n",
    "model = cv.fit(data)\n",
    "\n",
    "result = model.transform(data)\n",
    "result.show(truncate=False)"
   ]
  },
  {
   "cell_type": "markdown",
   "metadata": {},
   "source": [
    "## random try (skip this part)"
   ]
  },
  {
   "cell_type": "code",
   "execution_count": 135,
   "metadata": {
    "scrolled": true
   },
   "outputs": [
    {
     "ename": "TypeError",
     "evalue": "'Column' object is not callable",
     "output_type": "error",
     "traceback": [
      "\u001b[0;31m---------------------------------------------------------------------------\u001b[0m",
      "\u001b[0;31mTypeError\u001b[0m                                 Traceback (most recent call last)",
      "\u001b[0;32m<ipython-input-135-6fdbd4a2ea9b>\u001b[0m in \u001b[0;36m<module>\u001b[0;34m\u001b[0m\n\u001b[0;32m----> 1\u001b[0;31m \u001b[0mdf\u001b[0m\u001b[0;34m.\u001b[0m\u001b[0mwithColumn\u001b[0m\u001b[0;34m(\u001b[0m\u001b[0;34m'list'\u001b[0m\u001b[0;34m,\u001b[0m \u001b[0mdf\u001b[0m\u001b[0;34m[\u001b[0m\u001b[0;34m'txt'\u001b[0m\u001b[0;34m]\u001b[0m\u001b[0;34m.\u001b[0m\u001b[0msplit\u001b[0m\u001b[0;34m(\u001b[0m\u001b[0;34m\" \"\u001b[0m\u001b[0;34m)\u001b[0m\u001b[0;34m)\u001b[0m\u001b[0;34m.\u001b[0m\u001b[0mshow\u001b[0m\u001b[0;34m(\u001b[0m\u001b[0;34m)\u001b[0m\u001b[0;34m\u001b[0m\u001b[0;34m\u001b[0m\u001b[0m\n\u001b[0m",
      "\u001b[0;31mTypeError\u001b[0m: 'Column' object is not callable"
     ]
    }
   ],
   "source": [
    "df.withColumn('list', df['txt'].split(\" \")).show()"
   ]
  },
  {
   "cell_type": "code",
   "execution_count": 141,
   "metadata": {},
   "outputs": [],
   "source": [
    "split_col = f.split(df['txt'], ' ')"
   ]
  },
  {
   "cell_type": "code",
   "execution_count": 152,
   "metadata": {},
   "outputs": [],
   "source": [
    "data = data.withColumn('NAME1', split_col.getItem(0))\n",
    "data = data.withColumn('NAME2', split_col.getItem(1))\n",
    "\n"
   ]
  },
  {
   "cell_type": "code",
   "execution_count": 5,
   "metadata": {},
   "outputs": [
    {
     "ename": "NameError",
     "evalue": "name 'data' is not defined",
     "output_type": "error",
     "traceback": [
      "\u001b[0;31m---------------------------------------------------------------------------\u001b[0m",
      "\u001b[0;31mNameError\u001b[0m                                 Traceback (most recent call last)",
      "\u001b[0;32m<ipython-input-5-db8d0b42c964>\u001b[0m in \u001b[0;36m<module>\u001b[0;34m\u001b[0m\n\u001b[0;32m----> 1\u001b[0;31m \u001b[0mdata\u001b[0m\u001b[0;34m.\u001b[0m\u001b[0msize\u001b[0m\u001b[0;34m(\u001b[0m\u001b[0;34m)\u001b[0m\u001b[0;34m\u001b[0m\u001b[0;34m\u001b[0m\u001b[0m\n\u001b[0m",
      "\u001b[0;31mNameError\u001b[0m: name 'data' is not defined"
     ]
    }
   ],
   "source": [
    "data.show()"
   ]
  },
  {
   "cell_type": "code",
   "execution_count": 116,
   "metadata": {},
   "outputs": [
    {
     "name": "stdout",
     "output_type": "stream",
     "text": [
      "+----+------+\n",
      "|word| count|\n",
      "+----+------+\n",
      "|    |784389|\n",
      "| the|282718|\n",
      "| and|194113|\n",
      "|  of|163358|\n",
      "|  to|145701|\n",
      "|   a|103066|\n",
      "|  in| 90602|\n",
      "|   I| 88815|\n",
      "|that| 72731|\n",
      "|  he| 53735|\n",
      "| his| 48351|\n",
      "|  it| 46497|\n",
      "|  as| 46428|\n",
      "|with| 45537|\n",
      "| was| 45149|\n",
      "|  is| 43232|\n",
      "| you| 42713|\n",
      "| for| 41989|\n",
      "|  my| 39440|\n",
      "|  be| 37498|\n",
      "+----+------+\n",
      "only showing top 20 rows\n",
      "\n"
     ]
    }
   ],
   "source": [
    "df.withColumn('word', f.explode(f.split(f.col('txt'), ' ')))\\\n",
    "    .groupBy('word')\\\n",
    "    .count()\\\n",
    "    .sort('count', ascending=False)\\\n",
    "    .show()"
   ]
  },
  {
   "cell_type": "code",
   "execution_count": 117,
   "metadata": {},
   "outputs": [],
   "source": [
    "from pyspark.ml.feature import StopWordsRemover\n"
   ]
  },
  {
   "cell_type": "code",
   "execution_count": 95,
   "metadata": {},
   "outputs": [],
   "source": [
    "text_file = sc.textFile(\"../books/*.txt\")\n"
   ]
  },
  {
   "cell_type": "code",
   "execution_count": 91,
   "metadata": {},
   "outputs": [
    {
     "data": {
      "text/plain": [
       "6003218"
      ]
     },
     "execution_count": 91,
     "metadata": {},
     "output_type": "execute_result"
    }
   ],
   "source": [
    "text_file.count()"
   ]
  },
  {
   "cell_type": "code",
   "execution_count": 7,
   "metadata": {},
   "outputs": [
    {
     "name": "stdout",
     "output_type": "stream",
     "text": [
      "+-----------------------------------+------------------------------------------+------+\n",
      "|sentence                           |words                                     |tokens|\n",
      "+-----------------------------------+------------------------------------------+------+\n",
      "|Hi I heard about Spark             |[hi, i, heard, about, spark]              |5     |\n",
      "|I wish Java could use case classes |[i, wish, java, could, use, case, classes]|7     |\n",
      "|Logistic,regression,models,are,neat|[logistic,regression,models,are,neat]     |1     |\n",
      "+-----------------------------------+------------------------------------------+------+\n",
      "\n",
      "+-----------------------------------+------------------------------------------+------+\n",
      "|sentence                           |words                                     |tokens|\n",
      "+-----------------------------------+------------------------------------------+------+\n",
      "|Hi I heard about Spark             |[hi, i, heard, about, spark]              |5     |\n",
      "|I wish Java could use case classes |[i, wish, java, could, use, case, classes]|7     |\n",
      "|Logistic,regression,models,are,neat|[logistic, regression, models, are, neat] |5     |\n",
      "+-----------------------------------+------------------------------------------+------+\n",
      "\n"
     ]
    }
   ],
   "source": [
    "from pyspark.ml.feature import Tokenizer, RegexTokenizer\n",
    "from pyspark.sql.functions import col, udf\n",
    "from pyspark.sql.types import IntegerType\n",
    "\n",
    "sentenceDataFrame = spark.createDataFrame([\n",
    "    (0, \"Hi I heard about Spark\"),\n",
    "    (1, \"I wish Java could use case classes\"),\n",
    "    (2, \"Logistic,regression,models,are,neat\")\n",
    "], [\"id\", \"sentence\"])\n",
    "\n",
    "tokenizer = Tokenizer(inputCol=\"sentence\", outputCol=\"words\")\n",
    "\n",
    "regexTokenizer = RegexTokenizer(inputCol=\"sentence\", outputCol=\"words\", pattern=\"\\\\W\")\n",
    "# alternatively, pattern=\"\\\\w+\", gaps(False)\n",
    "\n",
    "countTokens = udf(lambda words: len(words), IntegerType())\n",
    "\n",
    "tokenized = tokenizer.transform(sentenceDataFrame)\n",
    "tokenized.select(\"sentence\", \"words\")\\\n",
    "    .withColumn(\"tokens\", countTokens(col(\"words\"))).show(truncate=False)\n",
    "\n",
    "regexTokenized = regexTokenizer.transform(sentenceDataFrame)\n",
    "regexTokenized.select(\"sentence\", \"words\") \\\n",
    "    .withColumn(\"tokens\", countTokens(col(\"words\"))).show(truncate=False)"
   ]
  },
  {
   "cell_type": "code",
   "execution_count": 51,
   "metadata": {},
   "outputs": [
    {
     "name": "stdout",
     "output_type": "stream",
     "text": [
      "+---+---------------+\n",
      "| id|          words|\n",
      "+---+---------------+\n",
      "|  0|      [a, b, c]|\n",
      "|  1|[a, b, b, c, a]|\n",
      "+---+---------------+\n",
      "\n"
     ]
    }
   ],
   "source": [
    "df = spark.createDataFrame([\n",
    "    (0, \"a b c\".split(\" \")),\n",
    "    (1, \"a b b c a\".split(\" \"))\n",
    "], [\"id\", \"words\"])\n",
    "df.show()"
   ]
  },
  {
   "cell_type": "code",
   "execution_count": 16,
   "metadata": {},
   "outputs": [
    {
     "name": "stdout",
     "output_type": "stream",
     "text": [
      "+---+---------------+-------------------------+\n",
      "|id |words          |features                 |\n",
      "+---+---------------+-------------------------+\n",
      "|0  |[a, b, c]      |(3,[0,1,2],[1.0,1.0,1.0])|\n",
      "|1  |[a, b, b, c, a]|(3,[0,1,2],[2.0,2.0,1.0])|\n",
      "+---+---------------+-------------------------+\n",
      "\n",
      "(2, 2)\n"
     ]
    }
   ],
   "source": [
    "from pyspark.ml.feature import CountVectorizer\n",
    "\n",
    "# Input data: Each row is a bag of words with a ID.\n",
    "df = spark.createDataFrame([\n",
    "    (0, \"a b c\".split(\" \")),\n",
    "    (1, \"a b b c a\".split(\" \"))\n",
    "], [\"id\", \"words\"])\n",
    "\n",
    "# fit a CountVectorizerModel from the corpus.\n",
    "cv = CountVectorizer(inputCol=\"words\", outputCol=\"features\", vocabSize=3, minDF=2.0)\n",
    "\n",
    "model = cv.fit(df)\n",
    "\n",
    "result = model.transform(df)\n",
    "result.show(truncate=False)\n",
    "\n",
    "print((df.count(), len(df.columns)))\n"
   ]
  },
  {
   "cell_type": "markdown",
   "metadata": {},
   "source": [
    "# Import different time with different size of unbalanced data"
   ]
  },
  {
   "cell_type": "markdown",
   "metadata": {},
   "source": [
    "## Random data generator"
   ]
  },
  {
   "cell_type": "code",
   "execution_count": 1,
   "metadata": {},
   "outputs": [
    {
     "name": "stdout",
     "output_type": "stream",
     "text": [
      " handledst pistols in the great a dryft\n",
      " enchaunted me:\n",
      " bloody staine,\n",
      " picht to him cunninglie,\n",
      " Why Mosbie my tale,\n",
      " meane to hire knaues,\n",
      " bloode we came it, hauing nought but went to be hangd vpon women, this the next encounters her,\n",
      " hir loue, without candle light,\n",
      " Perhaps I, the raylingest knaue is his time to your honest man will be slipt, til Ardens coming,\n",
      " whatsoeuer did serue me he liues.\n",
      " quitance with siluer dice:\n",
      " Me thinks me alone within,\n",
      " houes vs all.\n",
      " Tis childishnes to the Letter.\n",
      " land, weele haue you tell?\n",
      " beeing in a mist my cares he not\n"
     ]
    }
   ],
   "source": [
    "import sys\n",
    "sys.setrecursionlimit(150000)\n",
    "sys.path.append('../documentation/encryption/')\n",
    "\n",
    "from bitarray import bitarray\n",
    "from MC import MarkovChain\n",
    "from cryptography.fernet import Fernet\n",
    "\n",
    "with open (\"../books/3001.txt\", \"r\", encoding=\"utf-8\") as myfile:\n",
    "    data = myfile.readlines()\n",
    "\n",
    "m = MarkovChain()\n",
    "# Learn the txt data\n",
    "for i in data:\n",
    "    m.learn(i)\n",
    "\n",
    "length = 100\n",
    "# Generate data with 100 words\n",
    "print(m.babble(length))"
   ]
  },
  {
   "cell_type": "markdown",
   "metadata": {},
   "source": [
    "## Encryption and decryption part"
   ]
  },
  {
   "cell_type": "code",
   "execution_count": 2,
   "metadata": {},
   "outputs": [],
   "source": [
    "# Encyption function by using Fernet\n",
    "def Encrypt(data):\n",
    "    # it needs a key first\n",
    "    key = Fernet.generate_key()\n",
    "    f = Fernet(key)\n",
    "    # through the key we can do encryption and decryption as it is a symmetric algorithm\n",
    "    ciphertext = f.encrypt(data)\n",
    "    # return two variables key and encoded data\n",
    "    return(key, ciphertext)\n",
    "# Decryption\n",
    "def Decrypt(key_ciphertext):\n",
    "    ''' keyciphertext is a list which contains two elements\n",
    "        index1: key, index2: encoded data'''\n",
    "    # key = key_ciphertext[0]\n",
    "    f = Fernet(key_ciphertext[0])\n",
    "    # data = key_ciphertext[1]\n",
    "    decrypttext = f.decrypt(key_ciphertext[1])\n",
    "    return(decrypttext)\n",
    "\n",
    "def Generator(Markov):\n",
    "    return(Markov.babble(10000))"
   ]
  },
  {
   "cell_type": "code",
   "execution_count": 3,
   "metadata": {
    "scrolled": true
   },
   "outputs": [
    {
     "name": "stdout",
     "output_type": "stream",
     "text": [
      "b\" Doth challenge naught but to pick mens pockets in that I seeke to aprehend him\\n Northeast wind,\\n IN KENT.\\n Nere longd so stout,\\n content thee.\\n cut him down Poules, til I list with a while, heer coms your good I haue his breast.\\n answer you.\\n wring me of,\\n softly as securely, presently take you) that thou knowst that thou hast done, stand so soone.\\n toppe bough of such a mist as I such aknaue as Greene, must go before, Ile seeke him drest,\\n vyolate my grant,\\n ouer kinde?\\n silence such praiers as I,\\n mine owne:\\n blacke Will.\\n ouerplus thats the sea,\\n somewhat molyfied my brest.\\n master of a weak to God,\\n affraide, I not visit him?\\n vrdged me with his fowle and now Bradshaw, Adam fowle,\\n Shakebagge, canst thou thy selfe?\\n howrs the Mariage of a worde,\\n FEVERSHAM IN KENT.\\n frend, shame scourgeth my husband.\\n stifeled, that as wel deserue the more company comming after,\\n Anothertime wele take no gould,\\n through the Nages head, ther'is this deede.\\n show some body.\\n Nere trust you not to dyne nor persons alter me,\\n though young gentlemen I must do too incredulus I pray thee good.\\n heres a maner I scratch you serud me with afrowning looke not loue, as he,\\n twice doubled all thy constancie haue a stranger with blotting.\\n penny matter,\\n while, heer coms yonder M. Greene?\\n prolongs my husband sit you what you to kill them become the worst.\\n must be offended ile nere gone home Ile of these curres pluck out with the Alehouse butting Ardens coming,\\n Fore I sawe him that went back to aprehend him\\n go but to thee from his sad lament,\\n prolongs my master\\n dyed we must neuer leaues her Clarke how sone he shall go further then tis we parted company,\\n nedes, least you doe it were aliue againe.\\n think not the place well may mete thee euery drop of his shoulders curled,\\n come? Heere entes ales.\\n selues to doo:\\n tearme of that, that is no question surely as will come I cannot but to Feuershame.\\n paye him on Francklin onwards with discontent.\\n late, I fall down,\\n sinewes torne,\\n surer meanes.\\n vale of winde,\\n Bring that we are the tables.\\n sole ruler of you somtimes\\n Kent, when I shall end, before we haue I haue seene the open world.\\n sirha, you seeke out at one doore, and passionat?\\n Did I wey their dagers drawne,\\n yester night,\\n boast not stay the world for a gentle Michaell, whether are a mends,\\n To speedy execution with words\\n think on a wicked fraudfull smile,\\n shoke hands,\\n thinks your husband is all the King at by the staires,\\n lose the staires.\\n yeerely tribute will I liue.\\n Each gentle stary gaile doth nothing can I fasten it shall betide of ground, which I am resolued, and sent to you,\\n Black-will is no more then death will performe the weary bird,\\n do, thou'st kepe that fearefull hare:\\n abide the carle hath purchased me heare them vntwine.\\n whom thou misdone,\\n mends shal haue bene slaine,\\n good M. Greene,\\n lauish in Mosbies sister shall command me so your meeke hands, I thought was cause it not, but here I mourne more importune thee.\\n show some fine world beside.\\n Hath made you haue for an oath,\\n vpon an oath,\\n wall on their nightly fantasies,\\n slaue, with new made a turne the Ring,\\n Why he's as will be rulde by witch-craft, and his trugges at my lyfe, onely cunning man that we were ready yet?\\n doeth contemplation carry me.\\n moody braine,\\n arose a running brooke,\\n wrathfull vengeance light I think her blushe.\\n sorrow is his cates do you any thing, and I, but siirra see where Michaell is thy complices,\\n erre the slaughtermen.\\n disburdned of his napkin where art thou?\\n deuoutly thou haste my kin:\\n fell amaine from the flowre deluce,\\n pants his eare,\\n lyfe but looke vppon wodden legges,\\n vale of my words,\\n do, thou'st kepe it, and your parentage, and of our house of great Import\\n gushing foorth\\n twilight, cockshut light,\\n sooner shall be in continuall feare:\\n cut him that made me thoughts dryues me melt,\\n Poules, til Ardens comming,\\n lightning flame,\\n paine to haue twenty more.\\n lowe borne name,\\n poysoned pictures we two stout dogs were not slaine by me,\\n stoode still.\\n Both don to haue I know thou neuer liue I promised me as wel as you\\n honors alwayes bound to steale away,\\n susans loue is to sit.\\n wounded from me mistres Arden, this ten pound, and he sent a wanton wyfe, who was at the villaine will you not,\\n sound, for the white liuerd pesant sweare amongst his loue.\\n Marmaids song,\\n steward, and braue him not.\\n You would do it pas, and mariage is he but yet by my witnes, and hugd thee how I suppose that in the watch was bare, for help,\\n painter Clarke?\\n lyon foraging about,\\n euerlasting night.\\n act of in Kent, when I haue it.\\n pulles him to be sure thei'r frends\\n Grene Mosbye and talke of\\n impression tooke in the cause be it had we haue great deuotion.\\n dinner, cannot get,\\n falles into your selfe.\\n Here enters Arden needs thou darest.\\n yelde my passions penetrate, or Ile value euery drop of siluer dice:\\n reuelles it good corporall.\\n assist me out at the sooner, you he should seeme,\\n Constable from harme.\\n Twere best to neither of all is possest,\\n selfe, for tearme of poysoned pictures we trould the turne,\\n due audit to billensgate,\\n woorthles kisse, and Shakbag, what saith shakbag?\\n ouerthrow the earth,\\n ferrymen to giue me whether will not see what they past.\\n shut vp,\\n dyne nor take this, but here loytering, knowing my husband is very well enough for that, for an honest wife,\\n beleeue sheele stryue to apprehend me,\\n began to get you somtimes\\n slight a greater show,\\n opportunity to Esops talk,\\n lyfe my intent,\\n swallow vp in bursting forth Mosbies sister,\\n force therof, my Lord Clifford, he is.\\n at my husband is to them\\n botcher once,\\n Green I were a fire,\\n lye, for this I haue som more in it,\\n not, Ile grant vnder hand\\n wanton wyfe, who druncke with their eares and all.\\n abused by excesse of a glimse of God, what of griefe?\\n sitteth alone, so long shall I am bound to thee,\\n 20 warrands to bed, he said\\n Fore I made daylight fresh and Susan shall haue no more.\\n humble promise to the Ile stay with thy loue of the villaine and seeke him come not the ferryman.\\n selfe, you shew it helpe my mistres, for whose sweete Ales thou make her go to apprehend me,\\n cryes stab him down right, it out.\\n shalll be seene it hangs, may suppose\\n blacke Will.\\n one of y\\xe1\\xb5\\x89 Duke of poyson to be carried with thee\\n sleepe, when he liues, but looke vppon the water for my husbands death,\\n negligence not for stealing a mockery.\\n entes ales.\\n Theyle be as fast to so earely.\\n leases were not make our horses from these termes of God, and his frends,\\n mends shal haue the tide will be the chaunce in his hand,\\n together in your bolde yeomandry.\\n vowed my husband is lockt within, to me the ordinary,\\n creepe betwixt my husbands seldome want excuses,\\n not a wicked fraudfull smile,\\n Here's to swallow vp so can not to fling them passe a foole as drye as we heare will make them see me Mosby, or twice,\\n outcry cals me haue poysoned pictures we came thy fauorite.\\n too long,\\n wicked fraudfull smile,\\n prosper in Flushing there with his hands of me alone,\\n speaks thou wert wont to it, till we haue his giltles bloode,\\n mosby, where we grew\\n Ocean to get,\\n before, Ile giue you:\\n Then Will where he see it,\\n dryes my eye:\\n chase that downe,\\n bought so had neuer go perforce,\\n forearmde, who threats his wyfe:\\n hindereth the faire,\\n face is too sirra, see such filthie lust and liknes of this.\\n Sue is nearer the fire.\\n monstrous Francklin, let vs all,\\n procured your parentage, and his frends,\\n Thus hoping in thy sake, whilest he that any way the foggy mist,\\n her's my deuice.\\n returning back,\\n shoulder in bloody stratageme.\\n lincke in God defend me vp,\\n obiects that condition Mosbie art thou?\\n courage to iudge to do it couered with all.\\n Why, how I say that made no more company hath influences, and he begun.\\n kindly loue depart.\\n penny matter,\\n bloode, which I But what you carry an eye that thou be faine to my beeing thence.\\n mosbies sister shall finde him and blowes, to me.\\n hornesbie to talke of\\n Angels for my intent,\\n fins Blackwill and it pas.\\n iourney was I beene wake you did not againe vppon the vttermost,\\n looks, to sound his leg, his head of griefe?\\n Loth to this night shal haue done,\\n fright me meditate vpon the noise an houre.\\n (Now I die,\\n Whilest he and girdle found false,\\n Cheinies in the Sailer to brable in\\n doublet all the way,\\n forge distressefull looks, to murder Arden drawes she kisseth him.\\n paye him off by the streete a lytle more I haue none of beare.\\n Hard words be made of harlots all things ready yet?\\n harde to God, what will, I haue mist as they shall, come behind him short,\\n crackt as rauing Hercules,\\n Speede to my mans wife, or els be done.\\n compleat and all.\\n dore of a letter to eat the watch,\\n Bid Mosbie will make him you gone, tis not feare.\\n purses in the Letter.\\n onely cunning man what you could be lauish in the Gun, 1592.\\n conscience is leueld at,\\n giues him murdered, as this?\\n command my wynde.\\n dead you not die:\\n Gentlemen we two at the blood,\\n dreames presage to make cleane out of ground, which strumpet thou beest as will amend, and of you brought:\\n nicely at one night.\\n loued me harborough,\\n Shakebag, at Bulloyne,\\n Thinke you thus to eat the law condemned to London Ales, it ouer.\\n murthred in all the Mariage of parliament, if thou come?\\n warrand that your meeke hands, their wounding words,\\n late, I haue thy gentle Ales,\\n lacke, where pleasure sir,\\n peirst only through the dores vnshut,\\n ado, but Ile meete with them.\\n Here enters Greene doth attempt me doo.\\n hee is Arden, Fran. & Michaell.\\n valour out your dearest freends,\\n spare for my M. Arden drawes she greeued that it now,\\n houldes vp this sad eis on thornes.\\n Sittinburgh the worst, Ile call for disturbing you.\\n prickles you.\\n ribald knaue,\\n laugh for this.\\n Beleeue me for her company,\\n paid me to pick mens pockets in London, there Michael whether you at thy solemne oathes?\\n sir, but shall I die.\\n thou? nay then death to me speake with our labour.\\n Soft let the streete a complat vnder the deede,\\n wrong, I dare not angree or a quart pot in any time,\\n Poets, whose generall brute all my house:\\n snath him with me:\\n Moone, how shal single Francklin , seeing this is no companion for to betray my bramble bush,\\n newes to trew.\\n How comes he,\\n hyre some Cutter for an hour agoe\\n take me of this.\\n shoke hands,\\n burne this knyfe?\\n dearely bought of man in their tongue.\\n dayly in the grounde.\\n gods break of these?\\n On this goare that neither of mine lyes a hart, be taught such losing, Ioue send him by his honor late commanded me.\\n face is amis.\\n sup without controll,\\n impetrate mercy whome thou but he wil cleanely rid my pistoll at the doores fast lockt? and slay him to tell me, that you Painters can,\\n place and sene him vp:\\n horses ready?\\n while you no more:\\n Measure me a letter.\\n solemnly vowes,\\n hope youle accuse your selues vntil some speciall hunt,\\n games for this.\\n witnesses hartes griefe,\\n rubarbe to bring his disloyall and buckler.\\n tyed to mend our drifts,\\n These knaues abroad,\\n already with you?\\n violence held from a noble man of firme resolue,\\n points of manhoode,\\n sure enough serued, to follow thee.\\n sister, come againe\\n Ard. Fra. & Ales.\\n that loues me Francklin Francklin, when shall rue this tearme\\n necks, at my wits,\\n heers that finde the broth some Cutter for fayling.\\n meetings in Raynu down vnto a greater somme of Sheppy with them,\\n Whilst through my fault, but a dryft\\n toke the worlde.\\n mine, did as willingly as the Maior and beat me do you come in heauen,\\n as I finde him if I assure you, that will.\\n tables here,\\n word, you sir, you to liue.\\n springtime wither,\\n rockes of Feuershame.\\n sup with the counter.\\n ridden straight\\n sent to vs, why you like arrowes shot vpright,\\n barrell after you,\\n golden car,\\n sake the skye,\\n poysoned pictures we play with thee:\\n weepe that shall go along with slaunderous tongues,\\n Moone, how I now at the word.\\n a plaster of what?\\n taint thee crall on the tables,\\n nose be closed in this faulte:\\n forward thoughts\\n deuysed the watch will be trew.\\n leaues, and wanton giglote by my way the floure deluce,\\n parching heat,\\n death saue thine, in my sister shall no water and soulde it in plauging thee will you wot of\\n vnwounted courage to bring thy plate?\\n brydle thine eares?\\n confessed is my loue?\\n Not yet I take me.\\n deserts of a weeke.\\n vs the game.\\n whether she was not affraid he by the diuel driues must haue you will I liue.\\n dye poysond, that I made thee for his disloyall and what booties I had to ryse,\\n vyolate my shoppe,\\n addrest her shoppe windowes.\\n Pantophelles. Ah harmeles Arden lay their bolstred haire,\\n sticking in my sisters sake.\\n by heauen,\\n here about,\\n ouerplus thats more ado, but some thing's amisse, he by the rent aboue a thousand pound,\\n vnlesse she is the ferry?\\n thine, in your tale,\\n Michel feare frights away the thing youle liue in a mist as the villaine wil bid thee vp towards Feuershame, to London all this lyfe:\\n cannons burst,\\n light I lockt the more the countinghouse doore, and beat me with betraying thee.\\n cleaueth to bed.\\n scrape and wat you haue bene slaine,\\n be, that I haue conspired and beat me tydings of myne elder brother to be burnt.\\n wife, not both\\n fence of siluer dice:\\n the next sise.\\n pardon vs, for thee gentle michaell shed.\\n lose my companye haue murthred him.\\n want excuses,\\n sawe his owne experience,\\n sickle in my wyfe as rauing Hercules,\\n stations doe?\\n vouchafe to the pleasure sir,\\n twas Arden come to apprehend him murthered, may not since I haue in the pressing Iron you shall do well Will.\\n gentleman, shall be mine,\\n mutchado, which strumpet thou thy spirits and his time to her along.\\n ill spirite as might I hope theile cease, and make but behind the next night\\n husband walkes the syse,\\n supper with all,\\n back, straight waies thinks to be met with thy fist.\\n weele kill 1000. men.\\n disburdned of you,\\n wey their dagers drawne,\\n drops that fire and snath him down before my sight,\\n Enter Susan.\\n pistols in his purse.\\n Forsooth for nothing, I was like you are like your husband is gone,\\n sences, yet ends in my eye:\\n vnlockt against a word wil by the weapon in the word.\\n Fortune follow all at the longing water for thee, though young gentlemen do not affraid my selfe?\\n horned beast,\\n trample on Raynum downe,\\n beleeue it selfe,\\n night, then tis lyke the haste a redynes?\\n frame a Clock ist sirra?\\n off by my dreames presage to complaine:\\n Whose seruant thou hast shed,\\n heer's ten pound to billensgate,\\n turne or els would haue tryde it.\\n farme of it not deale currently with a quart pot in secret and let me from my fauour,\\n wanted, yet I must leaue this fortnights day is it?\\n sleepe and the purple mantle back:\\n leaues, and stay no water for a pretty loue your paines.\\n hornesbie to my teeth so amazed I am going wounded from thee speake it is.\\n This negligence not sweare,\\n troubles haue you word,\\n stranger, but a trespasse with the slaue.\\n questioned Ales,\\n twigs to cast in sporte, yet I will touche the biting speach bewraied an other matters now Michael and Arden sent a sword,\\n liuerd pesant sweare a taske as I wait on a gentle man,\\n THE LAMENTA BLE AND TRVE TRA GEDIE OF FEVERSHAM IN KENT.\\n perisht by my former happy lyfe is gredy gaping still for thee\\n weede thee yesternight to haue I hope, if she comes a foole.\\n ryse ere his tales, and fatall vnto myne.\\n great, or Ile go along with vs,\\n conuerted me,\\n shorte the weapon in heauen and wauering.\\n fal into a game or no?\\n day Ile make me to bed, he comes, ah M. would be gone\\n canst thou vse it be suspected staying here,\\n abhorre him, for disturbing you.\\n Helpe helpe, they shall, come hand shall be warden of bloode,\\n serious thing thou this thy quarterige,\\n purblind steedes,\\n contemplation carry this curtesie,\\n mourne more heere will stay.\\n ryse ere sayes no,\\n falshoode looke not this, began to accuse each stranger in my credit I warrant.\\n latice borne name,\\n these termes of a fire,\\n birth howre or els I was doone\\n worke thus flouted of my toung be it your husband let not lately found me a dreadfull forrest King is growne.\\n togeather at their ruthles hands, I happend on purpose,\\n seekes by then I say you make thee goe.\\n painting fable of sheppye,\\n Since we fal into a worke he is from reason M. Arden with Susan.\\n Whilest thou shalt see how sone he yesternight to vrdge her loue,\\n detecting of great Import\\n striuing on some ayrie spirit,\\n don but to his giltles bloode,\\n passing ill,\\n paint and cut her loue sicke, and tell him hollowed in London, in Mosbies sister, come and forwards may not view it couered with an agony of welth is no theame of rest.\\n raild on that you marke my weary time,\\n will not,\\n Good neighbour Clarke, it did, and tis thy fist.\\n aftersmother him ten pound in twenty more.\\n sensible in death, that passe, and let me do it him.\\n intending foes.\\n knowest how you this? say, will serue him, when I am content as a lytle bushe,\\n intergatories, how can say,\\n My winges are now fellow speake?\\n Paules, first that Michaell.\\n coyle, you should be on the end of men,\\n Cat, to rid the lands whereof I was at home, or twice,\\n hunger bitten Woulfe orepryes his death.\\n date compleat and populos.\\n feareful sleeping in the man,\\n Therefore I very late, I haue done before we will make.\\n milkesope slaue, so inlye kind of her from the channels of her long:\\n No, eares down the staires,\\n condition Mosbie will stay.\\n Continuall trouble is the lyning of thy patience\\n presage to requite this proue one of a fire,\\n toucht with you\\n wilt thou shalt haue me think tis the Tables.\\n thine enuious tongue,\\n sporte, yet could haue a woorthles kisse, let vs al.\\n morning but looke for to betray vs to guarde himselfe with their toyle remoued the Campe feard him on these two sweete phrases, and brought for a King,\\n Lordship chops me he knowes, haue the way, we to whet the money,\\n serious matters to requite this new ale ouer my deuice.\\n Arden? what is mine owne:\\n merits little rysing hill,\\n Gre. and debates twixt Mosbie will I was.\\n harlots all the bed which offence my hands of it lyes,\\n cleare, and opportunitie,\\n Performe the gentleman with thee:\\n sirha, you I wait on earth, in my husbands seldome want excuses,\\n needes all my credit sake I not on me, but wherefore should it greeueth me,\\n skill and I fell a Tapster,\\n warant you goe.\\n oft I may.\\n handledst pistols in thy Powder dancke,\\n spels, and tell me, I would I heare I feare them companie.\\n masters loue,\\n debates twixt Mosbie traunt you twenty pound,\\n impatient Ile call me haue I am vsde.\\n and fawning,\\n needs would not serue the thresholde to a kisse\\n proudest of this.\\n whose very well, Mosbie art thou art,\\n carle hath my hart\\n condemnes me, Ile leaue to build my house,\\n such a brauery florisht ouer reede.\\n slay him nor a stranger, but ile nere saidest prayer in my knees,\\n dore for he was no more I pray that next sise.\\n procured your greefes a pretty tale did you brought:\\n common speach bewraied an orator.\\n vnbolted and languish in the chaunce meete next.\\n ten pound, to finde too sirra, see what shall haue Mosbies loue continued.\\n women, this bullet Arden smeard in that aske where he not him home Ile seeke to set tongue,\\n feeble women can not when she haue had rather then Ile to be not heauen I haue longd this from thee any lyued and his backe and droup no knowledge of their dagers drawne,\\n Or thou misdone,\\n daunger of Paules.\\n incredulus I haue tane your husband hoordes vp the darksome cloudes.\\n watch will down with thee dreame no waies preiudice your selfe.\\n First tell me see, and take you hate,\\n Next vnto the Painter.\\n yeeres and make no newes with eager moode,\\n supper ready to the conflict at home?\\n confessed is your crabed countenance, & Shakbag.\\n What can a foole as she hath beene strange,\\n Clock ist sirra?\\n fell a sugred kisse, and still encourage you,\\n toucheth lyfe,\\n Use you vnkindely, respects he vsurpes it, when the oath thou haste a pretty tale beguiles the Maior, haue tooke,\\n ouerplus thats in Southwark, as well met,\\n breake thy wife:\\n battry in my state.\\n flowre deluce\\n sauourd of import,\\n humbly recommend me of a noble minde,\\n reuenge it maister Greene, are fittest standings, & sup w\\xe1\\xb5\\x97you,\\n baild whome I shed,\\n Hast thou enioy thy kinne are in a mends,\\n pulles him wrong.\\n hought then tis not serue,\\n called blacke Will,\\n forgetfull of Maister Mosbie doth attempt the knife,\\n wouldst thou thy sister, come Franklin and I made a word be?\\n end, before in that shall eat:\\n behinde me not.\\n twise or I, shall be spyed.\\n hereafter to rid myne eies,\\n on the key thy fauorer,\\n vowes made me nowe,\\n am content my affaires be intytled as I,\\n melancholy moode\\n whilest he and the staires.\\n before the company,\\n dryes my moody braine,\\n both, yet neere assayled me:\\n purchased me not.\\n him, for I wonder not\\n Forsooth for a Ieast.\\n walkt about his eare.\\n mercenarye groome?\\n Conuey me there,\\n goodly poyson with the slaughterhouse:\\n Whether my Susans sake.\\n serued, to say, will be not when I happend on Arden, and he must laugh for credit in their former state.\\n standings, & subscribed w\\xe1\\xb5\\x97 his companions,\\n instant so approued vppon this meanes to you Ales,\\n cherefull newes, to ruine both,\\n Sting me well.\\n feard, and Bradshaw, Adam fowle death it more.\\n top of my grant,\\n sworne as heauen)\\n be knowne that was picht to beguile his stormye browes,\\n grieues me my new supt,\\n who is it vnder ten pound to pay for if feare frights away so M. for thy gentle M. Arden hath any lyued and with the earth,\\n meditate vpon house were a loue, that made daylight fresh and hugd thee satisfied in our selues we wil bid him selfe,\\n presse comes not promised to them, what I am content thee.\\n well fitting such a foole beares so for we mete the murthrers.\\n detecting of Sheppy:\\n dread my neighbour Clarke, hast misdone,\\n flouted of y\\xe1\\xb5\\x89 Duke of feare.\\n longer then get you might I chought thee not?\\n handle him.\\n chought thee satisfied in this chamber where pleasure of the tyde go to me wish whose maister of his boyes.\\n stormd a cuppe of the dagge will be the nose:\\n mends, that hath preserued him.\\n married to answer thee.\\n temper poyson with me.\\n presently take hede he must haue guests come not haue cause.\\n duetye remembred Mistres Susan, and shakbag, will not help to hire knaues,\\n (For deare I could compound by faire whether I can.\\n guide his golden couer,\\n best, but lothsome weedes.\\n Cudgill sticke?\\n iuries do begge,\\n changed, no chase that shall not for his throat,\\n railing for your birth?\\n winde is irksome, there forsooth\\n shouldst thou sensible in a hurting weapon in bloode.\\n tearmes I tell me that made me of a gentle brother, wherefore stay you? finde a muscado in Raynu down all things ready Ales presently.\\n lusty geldings.\\n tempt thee, though begonne in killing a creature like frends.\\n Now Ales make it is, the tumult\\n seeme sluttish in euery corner trulles,\\n toucheth lyfe,\\n lockt? and Mosbie.\\n before the watch was a hurting weapon in my forehead is ridden straight\\n presence of what?\\n fetch the lightning flame,\\n heere it out to London Will, those foule fault shall I hope, if all this twelue months day,\\n Til in any other poyson that cald for this is irksome, there take him sweare,\\n feast, to try it\\n rested still, that went back Thus liue aboue a slaue, so earely?\\n blosoms in my good to runne him on the sound, for I tould him drest,\\n yonder, knowest thou not take you from London yester night,\\n Powring fresh to scorne.\\n raylingest knaue in doubt whether if your absence, do it, and away,\\n resolue me of drinke,\\n reason yet but he or rather then Ile tell my wife in hand.\\n inherit his man what a taske as if Arden leaue sweete verse\\n crie so vile a complat vnder hand\\n vnto myne.\\n carte was pitcht to trew.\\n Farewell Husband seeing I was wont to be thine,\\n month at home, or any case of God, what will giue me why tis we went to the key thy selfe.\\n from Iohn the floude.\\n countinghouse doore.\\n mercy whome my deserts, or common speach bewraied an orator.\\n censure either side,\\n dispight of men,\\n tearmes I thought the ditch?\\n hearest thou charme me here,\\n forlorne trauailer,\\n oulde humor\\n abhorre him, for my other place,\\n Stay michael you haue none other women ly,\\n story with vs.\\n foolish knaue brydle thine eares?\\n malice in me in.\\n [Exit Michaell.\\n caried to bed.\\n toyle, begat me to be gone\\n kowne to Ardens dearest freend,\\n vaine we will not him in Feuershame,\\n blame not neede I speake,\\n Roses grow loue depart.\\n minded pesant.\\n Gone to guarde himselfe with me.\\n Protector lay.\\n Bradshawe was picht to London Ales, I not plead the more then loue mosbies armes\\n wrought his napkin where they were gladde to preuent his death\\n Doeth check the slaughtermen.\\n Cheynyes where his hilts,\\n shew it as any.\\n sweare thou darest.\\n glewed with Ielousy,\\n gardens, Roses grow loue is from the outmost of what?\\n impeaching tongue\\n neuer leaues her mate, sitteth alone, so vile a wanton wyfe, who soulde thy worst,\\n thei'r frends\\n cutters foorth speede him:\\n Dyuers with a fine deuice, you keepe,\\n mends for you?\\n Markt in our horse and shakebagge,\\n cheeres my husbands seldome want excuses,\\n stryke fyre\\n read, and so inlye charged with Ielousy,\\n taske as she out the Tapsters head broke,\\n shame vs on the deede.\\n twigs to them, and my death, that I dishonor in lock me well.\\n mak her neck, and away:\\n pittious case,\\n thou, or the Cheinies in her faire, sweete Ales,\\n reconcilement buds?\\n money that coms yonder comes my hart,\\n Painter heere it possible,\\n take me for you?\\n yeald but here about,\\n maior thinke of thy tongue?\\n oft I cannot do well sweete repose.\\n woorthles kisse, and heauen can insinuate,\\n He should haue your Mistres Susan, and he said\\n hearke to acquaint each others throat,\\n wordes and words grow to the word.\\n feathred for smoake.\\n bewitched, woe begone, so much for that maides looke of this of a foole beares his house with his finger did denye his eare.\\n noble man:\\n shut indeed.\\n rydes he die,\\n hatred of her husband askt her faire, sweete Arden what ayle you him in Mosbies lypes,\\n w \\xe1\\xb5\\x97 you,\\n place, nor ere his sight,\\n vowed my high water, and he is his Maiesty:\\n intreaties will you serud me nothing but a letter sirra, there is your husband.\\n soft, me that slay a cuffe or we to tell me, as the waues.\\n sister's yet could take him through his Maiesty:\\n with the eares and I was a leafe within the worke of Feuershame,\\n sweet Ales now Will and my face?\\n soone amended.\\n Rede & so your selfe, we seruingmen put a Tapster,\\n TRVE TRA GEDIE OF FEVERSHAM IN KENT.\\n Thats braue, Ile giue you to Feuershame must haue many stones.\\n lust and see my selfe more wrongd,\\n break of her beauty with a lyon foraging about,\\n knowne that way that I wel, if thou shalt see his name, a way and tell me much,\\n content as note their irefull instruments.\\n Loue letters dwell,\\n intergatories, how you shal I kepe that I finde where it Clarke and stobburne, not the fray,\\n honour for he had reuyled him,\\n kneeling at any case.\\n day, and he though I tel thee heare, or lyfe for thy discontent I beene sure I haue it is now going to do it him.\\n furrowes in heauen,\\n entes ales.\\n cleard the slaughtermen.\\n want excuses,\\n Almost ten.\\n Faith, the Nages head, ther'is this is dead,\\n heereof. This night sweete\\n Sittinburgh the churle wer dead,\\n chek his head broke,\\n coyle, you gone, I hope he himselfe with new supt,\\n kisses many other time hath influences, and tis the closet of parliament, if he liue?\\n knewest not faire, I blushe and from London vpon the newes with sommers parching heat,\\n gentleman, shall my M. Arden come to me,\\n vnderstand the plat the shoe,\\n siluer noses, for here it passing kinde of his purse.\\n euill sounding horne,\\n Witnes sufficiently thou be seene them in.\\n blynded man of gould,\\n threats his way.\\n crackt as note their knees,\\n boldly beard and thou shalt see how light on some times are open sir, but wonder at.\\n getting some body.\\n sutors head.\\n dogge him murdered, by heauen I haue cause.\\n hose seame rent,\\n Sweare his death,\\n thickned still,\\n wondrous sad.\\n would haue a tryce.\\n foole beares so late.\\n dishonor buds.\\n drinke to eschew the downe,\\n run full of his weary lims.\\n Angells? giue me that M. Francklin Francklin, let him foorth,\\n crabbed churle,\\n sudden is it?\\n passing kinde husbands death.\\n certain gould mistris Ales, adew,\\n conuey the sudden from Iohn the plate was like your good we go to your M.\\n raine hath preserued him.\\n tooke, ile scrape and what ahell is not do begge,\\n Forsooth for this roome.\\n winne M. to Ardens honest Ardens lyfe:\\n don, cherely let vs go sleepe, when I know how I but you,\\n mightye furrowes in Kent,\\n meeke hands, their nightly fantasies,\\n flouted of my sight,\\n aside my purse,\\n vnbroken, whilest this giuen consent to your leaue,\\n winning and it trew,\\n deedes sealed & Shakbag.\\n stil to thy selfe.\\n nere confesse,\\n erre the dores, but flat knauery.\\n suppose that murther my witnes, and sends you he though I am sure his plate,\\n FEVERSHAM IN KENT.\\n approued vppon this end?\\n waxe blinde,\\n cooke of a wanton wyfe, who for that, creepe betwixt my sister's yet because you be secrete,\\n lands, Ile do can cast the staires.\\n getting some ayrie spirit,\\n resolutions fee,\\n misse him wrong.\\n Sariants head broke,\\n togeather at home,\\n sufficiently thou maist pleasure dwels,\\n louing husband is winde,\\n vieud thee vp,\\n repose made a gentleman,\\n lye here we seeke,\\n compasse me, Ile of poyson would I knew not with thy husband, and thats more wrongd,\\n ouerhangs the king,\\n bootie of periurde beast,\\n dagger at the gates, and verye hollow eied,\\n greater show,\\n of this accident,\\n got me wish that some small stock:\\n mantle back:\\n paire of myne eies,\\n argueth he though young to the blood it vntil some small stock:\\n UUhy then twenty more,\\n demianor farre as he loues me to you then, that she hath taken sanctuary,\\n let's away.\\n forty more.\\n twenty more,\\n match withall:\\n vsurpes it, a while,\\n hard for you,\\n oathes are past,\\n towell pull her shoppe windowes.\\n seing tis he,\\n leane faced euening haue an howre or play at Bulloine:\\n freends dead.\\n twelue months day,\\n Ouid like\\n attempt me here.\\n oppressed head,\\n witnes, I kist him, when they are frends.\\n Wele spend this letter.\\n vsurpes it, for what hath the flowre deluce\\n shall see Ile crosse the plate was at home, & Shakbag.\\n leafe within an odious were best sweare a gentle Michaell, runne at doores,\\n denye his house at dinner, cannot but against a manner of a gallon of his frendship gaine his lustfull bloode.\\n supplanted Arden vnto a fire,\\n looke to be harde to dyne with me with a cursy to this good M. Ales, now sirs seeing you not the place,\\n Speede to thy frend,\\n behinde the vnsatiable desire you here comes not me, or two,\\n oscured in it,\\n taking the left.\\n penny matter,\\n doe it selfe,\\n his giltles bloode,\\n nor any case we seruingmen put on,\\n gone home to vs, twould go to accuse each others throat,\\n countnaunce such paine to the newes of filthie lust and my marrow prying neighbours blab,\\n there is at my master,\\n Grene, and wanton giglote by mee,\\n morter, well but a towell\\n He's now in thy negligence.\\n Wil & think her ouer mistres Arden, for his house\\n Obscure vs al.\\n depe pathaires lyke to runne ouer my winde so can dissemble.\\n brabling paltry Painter, cut him be, the eiesight of your selues to their wounding words,\\n among such aknaue as she can Iack Fitte forth\\n 4 myles end,\\n som more thy selfe.\\n cursse with a throng.\\n Weele make these paire of parliament, if it greeueth me,\\n wings ere it in their knees,\\n Within this golden couer,\\n dryes my hope.\\n gentle man,\\n holye luck,\\n ceazeth on a throng.\\n Fore I liue good fellowes,\\n home, what shall go to the fowling peece be halfe so it is, why Clarke, haue iniurde thee\\n orepryes his fauour hast done before we grew\\n still encourage you,\\n full discourse,\\n newes, to complaine:\\n conclude, what is Arden, I repent too sirra, there is no better then haue that place,\\n shall, come to London straight,\\n drops that question of men,\\n boule at Arden, you stand euery searching eye that loues me by thy sorrow taint thee now,\\n merry thou sensible in it, for to trew.\\n miscary in lyking with vs.\\n importuned me from a crucifix,\\n languish in this night come to wonder not\\n liknes of your ferrymen to her kepe it, for the noyse he made,\\n spoke as our state,\\n togeather at potfinger.\\n beguyling home.\\n knowest how till wretched Arden and vnlockt,\\n myles end,\\n that? Mosbie, thou thy conquest ouer his stormye browes,\\n I still, base mercenarye groome?\\n hould thee speake Mosbie kneeling at my fauour,\\n conuerted me,\\n w\\xe1\\xb5\\x97 his sisters sake, whilest this house.\\n lowe borne name,\\n spyte an honest man in thine eares?\\n supt M. Shakbag, to a long torment thee neare my choller,\\n wrathfull vengeance light on me,\\n her think vpon it my pistoll at the tree,\\n bods little sport,\\n passe, and so close a boord some houre hence, for a sleepe,\\n ouerplus thats the broth that went back to you,\\n pittie lodge where the ile of thy mistres Arden,\\n Green I was about a foole beares so louely as I may.\\n Paules, first let vs be secret heere,\\n bonnie northerne lasse,\\n theame of oathes.\\n marrow prying neighbours blab,\\n blind pilgrims\\n Agers men:\\n haue bid him off by letters patents from Rede.\\n drawn, and Bradshaw.\\n cooke of his death torments my Lord protectors man and all the slaue.\\n freend, is very small,\\n ayle you M. Francklin Ardens lyfe:\\n muste vse it toucheth lyfe,\\n tearmes I haue it suffice, I pray with Ielousy,\\n harty prayer,\\n Oxe from ill spirite as I wil couer them passe a long,\\n ist sirra?\\n bethinke himselfe,\\n Intreat her eager young:\\n How? twenty pound,\\n Tush you two stout dogs were best that should haue dyuers matters are at the bloode we get you this\\n both our intent.\\n daies, thou vtter it,\\n continuall feare:\\n Iacke Fitten,\\n houses haue begonne.\\n iniure thee.\\n slip it to preuent that, that to this night.\\n Diana kist his lyfe,\\n talk of the pray you wil not a precissian.\\n lookes he as fast to dyne nor ere we may he now from thy pensiuenes:\\n puld down, & Francklin.\\n Manet Black will be midsommer Moone,\\n neighbours blab,\\n butting Ardens honest freend and he is comming to be put on,\\n harmles thoghts\\n he may happely loose their dagers drawne,\\n UUhat is it helpe to fasten it was,\\n discouer all.\\n bring thy sweete hart,\\n lands, Ile backe and soulde it among such a wanton giglote by the dagger sticking in my husband with that I wan, and my selfe.\\n Let it pas, and sends you sir, nothing but yet ends in my honest maid,\\n Crowne for your greefes will not thickned still,\\n shewed my lease into some other matters to see it,\\n fy no, not both\\n raine to the churle wer don,\\n raylingest knaue brydle thine enuious tongue,\\n cherefull newes, to the thresholde to you he may wel deserue not thickned still,\\n discharge my downfall to make thee good.\\n faith, and shewers though begonne in thine owne father slaine,\\n chamber where it at my tale,\\n abroad so Ielious:\\n doore oppens next encounters her,\\n trueth of that fearefull hare:\\n What shall you se my lyfe for the haste a time,\\n obiects that he can not me\\n wept for susans loue,\\n heare? what deepe fetcht sighes?\\n why, who robbed him otherwise,\\n How, Clarke\\n bitten Woulfe orepryes his man in a wilde Cat, to welcome her,\\n Poets, whose wil welcome her,\\n myles end,\\n bewraied an oath make bootie of this golden car,\\n noble minde,\\n among such weather to thee,\\n Ah fine confection,\\n nose be my Lord Cheiny solemnly vowes,\\n Mosbye? she like me\\n ban, let me vnhappy that comes it perish.\\n reconcilement buds?\\n left his shoulders curled,\\n rush foorth,\\n sworde assist me M. Arden smeard in bursting forth Mosbies sister but lothsome weedes.\\n Echo of such a bargane, and this end?\\n pressing Iron.\\n labour's lost,\\n Comming into his blood it maister Greene that you instance of you should he craues to you,\\n informd that bitter storme,\\n for me\\n supplanted Arden smeard in the lands againe,\\n deserts, or displeased\\n slight a game at my husband.\\n brekfast, I cannot get,\\n Green, & Fran.\\n water and leaue this once, sweete Ales,\\n Swete Mosbie traunt you wot of\\n stifeled, that comes some other poyson with a gentle lyfe I haue a peece be stifeled, that comes he may not visit him?\\n name, a long,\\n Go in his delicats,\\n wait on some surer meanes.\\n Roses grow hot, and stobburne, not to make you might not home.\\n shamefull end of Addamant,\\n Being in mine should race the counting house?\\n dround with his broth,\\n saddle you this good I haue to this giuen your necks, at any of an inlye charged with me.\\n Michael, you cast his sight,\\n deuised a shoe may loue,\\n hues and I am I hope on thy wife:\\n michaell art thou not one and it pas, I do it.\\n vnawares playing the flowre deluce,\\n tis the counsels warrand to take a Painter, cut shorte the causes that she haue opportunity to the ile stab the raylingest knaue in a mockery.\\n iudge him home to sweete husband, Mosbie hath dishonourd you,\\n kindly loue of danger, I am content as you shall by the Painters can,\\n freends dead.\\n supt M. Francklin and filthy gore.\\n laughs vs in the deed,\\n coast of me, to shoote,\\n Saw you go tell you marke my sir we hope now fellow Will,\\n botcher once,\\n in, and lost my hart be so?\\n fauour, wil plat of these?\\n lyes foure myle togeather.\\n Pesant will you like arrowes shot vpright,\\n steale from the thresholde to the Salutation,\\n Lime your worship drinke:\\n She will not think his blood remains,\\n Breakes my purse,\\n warrands to liue.\\n prickt the leaues, and take horse and so stout,\\n crabbed churle,\\n Twere cherefull newes, to defile,\\n euening haue sworne,\\n sirs let not well, I had one,\\n Saw you no hough munday, you like not loue, as I stoode in that cald for Francklin Francklin, Michaell hath taken my house would last, be executed.\\n Twill serue the lyttle North dore for my loue of such a sword inraged with my freend, is to the black Will, and what is a match,\\n taunting letter,\\n short, and Ales.\\n guarde himselfe with all.\\n except of our purpose Michael, we haue I am welcome thy frend,\\n finish Ardens wife, not slaine by base tearmes I or no?\\n act of a kisse\\n sensible in her sake the lands whereof I pray thee in the best,\\n Here's to the Painter, my sinnes,\\n sweete hart,\\n simple trueth is the key,\\n eye that wil serue the way, we two, or to do.\\n Loth am glad he whose wil betray vs not,\\n fal into your owne?\\n lock the throng.\\n Sue is to my maid, the Letter.\\n Osbridge in his eyes vp thy opinion of it suffice, I be not thickned still,\\n flaw at my dreames presage to shoote,\\n Speak milkesope slaue, no coward then giue it toucheth lyfe,\\n they, they shall, come to that I striue the well.\\n man's comming foorth\\n reason yet no speache,\\n trye thy company.\\n girdle found false,\\n Bring that lowe borne name,\\n shillinges in Bradshaw call for your house Ile go vppon her,\\n Ryde whether doeth rise so affraide, I hope youle haue the way, we seruingmen put me about the money,\\n flintye breast.\\n wench abused by his finger did we bene slaine,\\n throw him for shele be mine lyes a silly man,\\n stopes thine eye.\\n trublesome fray or other, vnles my nose from ill intending foes.\\n darke nights repose made a stranger man performe the match with vs,\\n al the Painter, layes his death.\\n tel, I loue he stayes behind the rest do taste\\n conuinced, or both,\\n greefes a blynded man is broke, dost thou shalt finde Ile banish pittie if thou hast done before to the sooner, you word,\\n sawe him for I know it?\\n yfaith what care not till my frend, is to be gone, I haue sworne,\\n valued gentle M. Francklin thy selfe and let me much,\\n crue of Pitch to a crowne,\\n Michaels head.\\n giuen consent to a way.\\n write to a matter of the best,\\n home, & Grene.\\n hauing nought but see he supposed a crowne,\\n still, base brocage, getting some rushes.\\n sutors head.\\n enchaunted me:\\n graunt, some speciall hunt,\\n molten down too.\\n bed which is very ill,\\n broke, dost thou hast done, stand close, to the rent aboue thy beds head,\\n An ill spirite as secreete as we are well beaten of what?\\n gone further my part consume, ah Francklin let your husband lately,\\n resolute as much pitty moning words? what he said\\n powder was hanged in christendome,\\n doore oppens next night\\n womans breast:\\n direction draw to London, in hand?\\n dagger sticking in health towards lyke the dores vnshut,\\n One ace, or no:\\n belcht and sends you did bethinke himselfe,\\n feuer God graunt this is Ielious,\\n agony of our horses from remaining in Paules, first that I haue Mosbies lypes,\\n forgetfull of the deede.\\n fatall vnto the best,\\n toke the next time hath forsooke,\\n wondrous holye luck,\\n Nobody but confesse,\\n that dies where he slinks away,\\n froward lookes,\\n Ah maister hath no wrong your meeke hands, their time,\\n wilt thou sensible in London, but for his tales, and thou by me\\n druncke with my hart,\\n inner court.\\n drinke, choller makes me seruice of our supper with you,\\n had beene sure thei'r frends\\n countinghouse doore.\\n Be resolute as the Painter.\\n change, that he is no coast.\\n frolick woman, I repent too young to them\\n let them with the deede.\\n shele be reconcilde,\\n spoonefulles more,\\n deuice, you make more strength then had not of heauens can dissemble.\\n prepare his wife.\\n solemnly vowes,\\n Waigh all the Ocean,\\n serued sir Antony Cooke,\\n counting house?\\n serued to Scotland or Ile seeke to swallow men.\\n thousand pound,\\n stolne, therefore blame not so to go to wound is rooted in the rent of Kent,\\n death, that I will I without suspect or thine enuious tongue,\\n trugges at thy tongue?\\n pranckes as securely, presently take the grant vnder hand\\n thinke you two stout dogs were best shute vp and sup w\\xe1\\xb5\\x97you,\\n holy word wil stick to billensgate,\\n ciuill sir, this meanes to your quick returne.\\n kist his honor pardon vs, through his death,\\n body forth,\\n sounded for the flowre deluce,\\n heeres my body to Raynum downe,\\n inforce me to him hence,\\n but weele kill my house,\\n Those Ruffins threatned him to say that hope on his head.\\n yeerely tribute will vouchafe to haue liued in\\n wide, lyke the Angels in the Temes,\\n remaining in that attempts,\\n cheare we must hence\\n pursse and his house\\n appeale to hear the intergatories, how the signe of great mal lice and debates twixt man of him,\\n weepe that I Michaell how it snowed al things ready to murder Arden escapt vs, for all:\\n wished victory.\\n amongst his lyfe,\\n eies art faire,\\n thou'st kepe that witnesses hartes griefe,\\n thing, and out alas,\\n staruen Lyones\\n rust and spurnd her beauty with that came thither thinking to London, there is not serue our neighbour Clarke, hast thou beest as I assure you loue to Roome rather or two, will be alone.\\n aduantages, and earth hung ouer my hart.\\n beleeue it now,\\n welcome, he is ridden straight\\n way offend myne eies,\\n command my selfe.\\n leane faced euening haue it falles, and shewers though I were not breake,\\n dogge him home, & in this mends, that I after another, with a noble house,\\n blame not looke? is the lightning flame,\\n ground & Sayler.\\n faine would be mine should do walk vp my heede and languish in all my armes.\\n almost suppertime, thou darest.\\n best, but one,\\n company hath any case,\\n mosbies sister shall no credit in the Ruffins, Shakbag and thou not.\\n try it\\n vpon hope,\\n forberance is not till now, because his minde,\\n freend, is not eat, but he must be so dispatcht,\\n tooke, ile of import,\\n foule fault confessed is your fame:\\n widow Chambley ile try thy sorrow is not your husband, Mosbie with his wiues dishonor buds.\\n Confirmed by my master,\\n morning, when she is gon to the deed don? is void,\\n Lord Cheynyes where thy head broke,\\n begat me heare me gone.\\n lye, for thee yesternight bene sighted, as he and impoysoned,\\n moody braine,\\n welth is thy misgouernment,\\n conquest ouer reede.\\n apparell had a mockery.\\n true, & Shakbag.\\n botcher once,\\n yester night,\\n Till by his Maiesty:\\n run out,\\n wide, lyke I will murther him,\\n playing the fray,\\n second fog.\\n lyued and iuries do some go before, Ile leaue sweete husband, and sene him be, For petty robberies that loues to ouer farre.\\n neglected matters not one thing youle be the L. Cheiny lost for here anone.\\n wil spy me, and his breast.\\n Flowres do forget.\\n speede him:\\n world, what is in many stones.\\n saddle you ryse ere now.\\n wypes her foorth, and grinning in this would haue Susan be circumspect.\\n statute makes me Ales, we may be thine,\\n neighbours blab,\\n spectacles so doth Will you thinke?\\n compleat and Ile see the Maior and get you weepe?\\n Sith thou and my maister Clarke, haue plaid a stratageme.\\n warne him this little rysing hill,\\n lauish in sport.\\n in this sad thou in sporte, yet is here his head\\n turns, with Susan.\\n sluttish in a chaunce your horse be mad,\\n companions smoaky braine,\\n fling them as I haue tane your company hath no companion for whome I did view it M. Franklin, & Shakbag.\\n Suck vennome to his oyle,\\n walke in their horses ready?\\n reades the rest, til Ardens lookes, as wel as you vnkindely, respects he comes,\\n rime too,\\n Roses grow hot, and Shakbag, at him not, but susan she lookt,\\n vntil better time.\\n shele tell.\\n saiest the sudden from his men.\\n nector, but went to dine with him.\\n then, and houldes vp so nicely at Bulloine:\\n thereby lyes murthred in my blisse is rooted in the Ile make no companion for a fire,\\n mal lice and were fellow Will,\\n Must haue no more then Ile giue him welcome, he will haue weyed down Endimion and see what make thee with blotting.\\n layes his loue.\\n Chamber where he straight grow loue to mete in hand?\\n slipshoe did serue the necke.\\n vp, vnlesse she wypes her down all.\\n wenches peticots\\n closed in the house.\\n footesteps will serue our courages with him ten pound more.\\n Staring and out so his costerd.\\n offer this,\\n Franckline thou not for changing bad,\\n Botcher and the knife,\\n Gallope with the ground & Ales.\\n Forsooth for Christs sake the eares till we heare\\n powder was lyke to the Chancery seale.\\n stretching foorth his comming foorth\\n touch not doone beare you brought:\\n whom thou shalt not with patience.\\n whats thy loue,\\n heare? what time would haue thought it to him about the Sailer to the sutors head.\\n Edward White, dwelling at the guests enough, thogh you what silence such filthie ones,\\n see, shakbag I will dogge him sure enough for this night hath past with thee:\\n stole it is.\\n distresfull wife.\\n angree or departing from the I must do can begin to Feuershame to this fog, come into his dore fast, let him lay it for whose sweete Ales he not nice, but a story with thy lips seale vp sir, get the Watch.\\n sir, so many narrow lanes to London, and mariage is here his eare,\\n mutchado, which offence my other place,\\n repent too manifest,\\n yet in his owne experience,\\n bare, but mosbye.\\n mangled by his breast to his paines Ile stand close, til I are his stormye browes,\\n saiest the kings,\\n verye hollow eied,\\n tapsters throat,\\n AR DEN OF FEVERSHAM IN KENT.\\n letters patents from a Ueluet hose seame rent,\\n tush hele come into a redynes?\\n skilfull hand,\\n passe a Painter to,\\n pretty loue forsooth,\\n Mosbies name, the key:\\n bonnie northerne lasse,\\n mutable: then from that wil cost you were full discourse,\\n those cutters foorth your dags discharge\\n charge, let me of money,\\n Each gentle Francklin , or any knowe not, was to a horse,\\n ground & neuer dyne togeather at my lands, Ile make her neck, and debates twixt Mosbie farewell too.\\n lowly flght,\\n Ile go a woorthles kisse, let me was when I are those foule obiects that I cannot tel, I striue the ordinary,\\n staule, watching Ardens lyfe may he shall be arrainde the gentle man,\\n leaue, thers no shadowes in my shoppe,\\n UUhen we wil by vnthought on.\\n boxe of all this kinde husbands death to plant another:\\n faire Susan, hoping in this,\\n foorth torments my affaires be frosen in my eies.\\n detect the fault shall eat:\\n sure, would runne him if all former lands whereof I must flatter her.\\n liuerd pesant is to finde some ditche or common table talke with hues and Michaell.\\n rumour that here for the countinghouse.\\n father slaine,\\n Whilest, Michel feare he and sent to ouer his frends,\\n Our haruest nothing but one day is broke, dost thou beest tainted with.\\n twise or three, whats the world can tell him, when we may you now\\n ioints and all the Maior and saue thine, twas one Iacke Fitten,\\n rubarbe to be hanged in my loue.\\n lothsome weedes.\\n charged with lesser force.\\n table talke of feare.\\n taunting letter,\\n drop of our horses are almost stifled with their knees,\\n seeing you M. chamber.\\n all, what disease?\\n golden couer,\\n large promises,\\n Bid Mosbie will performe it:\\n brewers carte was so slight a good companions smoaky braine,\\n taunting letter,\\n straight to you sit in it, and Bradshaw,\\n graunt this warde,\\n bear no more\\n mad, and Shakbag, and shall saddle you are informd that block shall see how now? who shall rue it.\\n world can scarse go:\\n detaine from a base pesant is Ielious,\\n prayer in it, but looke not scape vs from thy misgouernment,\\n sone he to thy wealth,\\n Se yonder comes it more.\\n heer's ten pound to her in the ground,\\n mak her vnawares playing the man might content my loue is vnpossible, for he as he,\\n vice to the shamefull end of firme resolue,\\n beguile his latice borne name,\\n drawne you be frosen in my head,\\n hers, maiest thou art,\\n neglected matters now nor a sleepe,\\n muste vse your deserues decay,\\n kinde, till all were a peece be well\\n surely shall be warden of my sauiour Christ,\\n knaues abroad,\\n countenaunce my broken a cup of the way,\\n rancorous venome of a dog\\n Hated and troubles haue in dust.\\n gaping still for opning her voice should be slaine?\\n wench, and demianor farre exceeded thee.\\n spend this little fault,\\n Wel gentlemen do forget.\\n pistoll at my selfe with good I shall command me to swallow vp in teares be pointed at,\\n bounteous and thy sleepe.\\n coucheth til one of gunne powder,\\n frute thy loue onely that\\n heer's ten pound to be reconciled,\\n girdle found with euery day the gentle gentleman.\\n slept secure,\\n Arden? what meane you come vnto thee hurt,\\n encourage you,\\n once, let me I Will, about the bed,\\n snakes of thy protestations,\\n chiefly meditate,\\n argueth he beares his loue lay vppon the fields on thornes.\\n Se yonder comes with him cunninglie,\\n concernes my relenting hart is drest,\\n It is at the fields on me, to London, and Shak.\\n Bring that I haue no chase that I die.\\n gladde to mend our intended sport.\\n sent with your selfe.\\n oppens next time hath beene strumpet\\n thers something in the fields on it, nay then a hart,\\n 20 warrands to certifie you, but for my husband askt her watrie bower,\\n Mosbies sword.\\n Whats the sollen earth,\\n kowne to giue me as you may die.\\n yonder M. Arden, and loue is abroad so I know you haue my purpose at your fittest standing,\\n reades the Nages head, ther'is this naked Tragedy,\\n pittiles black Will, those that place.\\n bought so louely as willingly as he,\\n protectors man was I will performe the lightning flame,\\n salt teares be midsommer Moone,\\n scarce a certaine good I would grow loue doo sir?\\n White, dwelling at tables not giue me not down\\n leaues her loue and Francklin helpe,\\n When I would I had to shame scourgeth my eye:\\n respects he is a gouldsmith,\\n rid the deuill come, and Francklin.\\n thy selfe more I saw him home before,\\n please your bolde yeomandry.\\n Sick, of y\\xe1\\xb5\\x89 Duke of a chaire,\\n Before I froward lookes,\\n stollen from Shorlow as quickly as he said\\n compasse me, and Shakebagge.\\n blew an hour agoe\\n dine with my soule.\\n sir, will make the Painters make her down to London.\\n maior thinke vpon hope,\\n knowne that attempts,\\n hanged, God and so farewell and fasting.\\n dogs were this warde,\\n Painters, paint and feares,\\n prosper in any thing thou wert a feast, to his cheeke.\\n search and the oath thou or twice,\\n fall vnto no such a dog\\n sure, would haue none heere, twas thou mistakes me of.\\n long be fellowes now, whats the signe of it, and heauen and his house at home,\\n wordes would you along with your face is misticall,\\n help, I see\\n Protector backt,\\n finger did hee:\\n houldes vp a letter I after speake.\\n Husband why eat him the Chancery seale.\\n sutors head.\\n greeueth me,\\n phillope on these two stout dogs were aliue againe.\\n inforce me feare, of legs, Ile see what is from his broth,\\n kept back, straight falles vnto no knowledge of great impression tooke me,\\n Unles that calles for trueth, that villaine hath preserued him\\n Cat, to beare him not.\\n hatefull naming of oathes.\\n battry in you in secret and repent the deedes sealed & Fran.\\n words? what meane you any case of poyson with it, a long,\\n since Morning,\\n yeeres and beat their irefull instruments.\\n due audit to thee?\\n ist sirra?\\n aprehend him\\n state to Feuershame.\\n vnkindely, respects he wound my sisters sake, her voice should not long in Mosbies father slaine,\\n hoorde vp to her dowry more he whose very late M. Ales, if thou couldst be knowne that passe, and wauering.\\n munday, you procured your selfe more such vehement oathes,\\n abusest me.\\n constancie haue murthred in the forlorne trauailer,\\n that, send him to London, but Mosbie farewell and steale a dowe.\\n escape as will be knowne that you them that comes foorth your purpose at my blisse is fretfull Ielousie?\\n crie so dispatcht,\\n ado, but take thee yesternight bene often wisht that will.\\n theeues that I as I can not strange,\\n None shall he is no more but he was I be met with him Churle,\\n Brad, Adam, stay, thou him\\n changing bad,\\n repose made some other company:\\n call her loue thee, though young gentlemen of shakebag I michaell\\n plat our horses as I but dead\\n tryed, but good Will,\\n fancies worke,\\n others, when my husband with all.\\n time is not hele swear\\n (Now I stole it were thy discontent I came to the dust, or I, Loue is it good day to Feuershame must to them, what so early,\\n vndone vs away.\\n platforme of him.\\n great, or displeased.\\n brekfast will content to be gone, I shall be considred of,\\n Stabbe him, for a stratageme.\\n railing for help,\\n thoughts dryues me on the white liuerd pesant sweare mee on the 18 pence ordinarye,\\n drinke, choller thus to mend our horses are feathred for the trueth,\\n northerne lasse,\\n wait on you.\\n thickned still,\\n gald horse on this,\\n Feare not his trugges at the cowards haunt,\\n death, that thou that is now my thoughts:\\n Will times are frends.\\n vsurpe my sore,\\n holesome, didst the place and meere sorcery.\\n sayes no,\\n seeke his disloyall and Eclipses.\\n name ingrauen,\\n frosen in thousand pieces,\\n Echo of you carry an oath make me a maiesty addrest her hand Mosbie farewell too.\\n eaten but susan know he sayes,\\n gentlemen, that did hee:\\n Alehouse butting Ardens honest freend and dispose him to swallow men.\\n sooner, you are open wide, lyke the Maior, Mosbye, Ales, it be, for when serious matters of Wine.\\n Youre way as a rauen for ioy,\\n gratious enough:\\n depart, yet is the slaue will I knew not so.\\n Suck vennome to in bloode we be reconciled,\\n Pistols I tell him what if it vnder ten pound, to dyne togeather at my thought,\\n holde hir loue, might be none.\\n brekfast, I haue no better then bid him the carle hath done,\\n countenance, & Fra.\\n decyde anon,\\n Feuershame, to it, when he stands pissing against a maine,\\n kisseth him.\\n gone in her waiting maid\\n Susan be burnt.\\n he's as he doth erre the way, we can both his minde,\\n Mary sir ile of the man might I seeke.\\n intreaties will be remoued,\\n simple trueth is he that she would not his worth.\\n informd that place,\\n free from that Susan's thine\\n chase that Susan's thine\\n Clarke, it suffice, I mourne more Ile cursse the ten pound, to cut him mercy as much as you\\n Hated and at flashing of my affaires,\\n searching eye that you name him you be put hornes are a cannons burst,\\n practise our house an answer, looke about his wife is not chuse, her Clarke heers to Feuershame must to make one in good fellowes,\\n I vppon the well.\\n twise or to the hart in the horn,\\n whom thou detaines from the hind,\\n onely thee.\\n tangled with them,\\n deuise to it, till his plate,\\n Ere noone wele kill the wind.\\n slaughter of feare.\\n take it I the haste I liue in the\\n rather then a pretty loue he may haue him vp.\\n soundly fed, to sweare by birth a stoole,\\n Those Ruffins threatned him not be, that issue from his giltles bloode,\\n tis thy arme, it for the best, but yea and soulde thy sight.\\n cryes stab him whome he loues me euery drop of death.\\n takes aduantage to conclude, sent a Ieast.\\n chambly in that gaue the watch word be?\\n fence of the twilight, cockshut light,\\n corporall, and his wiues dishonor her vnawares playing the complot that any way the prisoners.\\n dishonor, as Greene, is ten pound, and I know all things ready yet?\\n fal into his scull were once at London many fauours,\\n Loth to you,\\n done, stand to giue it so.\\n Maister Arden,\"\n"
     ]
    }
   ],
   "source": [
    "# An example of using Fernet to do encoding and decoding\n",
    "data = Generator(m)\n",
    "data = bytes(data, encoding = \"utf-8\")\n",
    "key, ciphertext = Encrypt(data)\n",
    "key_ciphertext = [key, ciphertext]\n",
    "decrypttext = Decrypt(key_ciphertext)\n",
    "print(decrypttext)"
   ]
  },
  {
   "cell_type": "code",
   "execution_count": 4,
   "metadata": {},
   "outputs": [
    {
     "name": "stdout",
     "output_type": "stream",
     "text": [
      "0.8899860382080078\n",
      "1.7107620239257812\n",
      "2.45750093460083\n",
      "3.237651824951172\n"
     ]
    }
   ],
   "source": [
    "# Run for large size of data\n",
    "import time\n",
    "import functools\n",
    "timesaver = []\n",
    "for j in range(1000,5000,1000):\n",
    "    # dataset to save all the documents. (documents are both like the example above)\n",
    "    dataset = []\n",
    "    # generate the dataset\n",
    "    data = Generator(m)\n",
    "    # transfer to bytes type\n",
    "    data = bytes(data, encoding = \"utf-8\")\n",
    "    # dataset repeat data for j times to get j documents\n",
    "    # if j = 1000, dataset contains 1000 documents\n",
    "    # The task is to encode and decode 1000 documents \n",
    "    # ps: each document contains 10000 words\n",
    "    for i in range(j):\n",
    "        dataset.append(data)\n",
    "    \n",
    "    # start to do encryption and decrytion\n",
    "    start_time = time.time()\n",
    "    # encoding\n",
    "    test = list(map(Encrypt,dataset))\n",
    "    # decoding\n",
    "    decoded = list(map(Decrypt,test))\n",
    "    # count the end time and print it\n",
    "    end_time = time.time() - start_time\n",
    "    print(end_time)\n",
    "    # save it to timesaver for visulisation\n",
    "    timesaver.append(end_time)"
   ]
  },
  {
   "cell_type": "code",
   "execution_count": 5,
   "metadata": {},
   "outputs": [],
   "source": [
    "# import time.pickle contains the timesaver for different \n",
    "import pickle\n",
    "with open('../data/timedata/time.pickle', 'rb') as f:\n",
    "    timesaver = pickle.load(f)"
   ]
  },
  {
   "cell_type": "code",
   "execution_count": null,
   "metadata": {},
   "outputs": [],
   "source": [
    "# import the data generated before"
   ]
  },
  {
   "cell_type": "code",
   "execution_count": 6,
   "metadata": {},
   "outputs": [],
   "source": [
    "import numpy as np\n",
    "import pickle\n",
    "with open('../data/timedata/time_balanced.pickle', 'rb') as f:\n",
    "    # balanced data\n",
    "    timesaver_b = pickle.load(f)\n",
    "with open('../data/timedata/time_unbalanced.pickle', 'rb') as f:\n",
    "    # unbalanced data with 50% large size and 50% small size\n",
    "    timesaver_u = pickle.load(f)\n",
    "with open('../data/timedata/time_unbalanced_10.pickle', 'rb') as f:\n",
    "    timesaver_u10 = pickle.load(f)\n",
    "with open('../data/timedata/time_unbalanced_20.pickle', 'rb') as f:\n",
    "    timesaver_u20 = pickle.load(f)\n",
    "with open('../data/timedata/time_unbalanced_30.pickle', 'rb') as f:\n",
    "    timesaver_u30 = pickle.load(f)\n",
    "with open('../data/timedata/time_unbalanced_40.pickle', 'rb') as f:\n",
    "    timesaver_u40 = pickle.load(f)\n",
    "with open('../data/timedata/time_unbalanced_60.pickle', 'rb') as f:\n",
    "    timesaver_u60 = pickle.load(f)\n",
    "with open('../data/timedata/time_unbalanced_70.pickle', 'rb') as f:\n",
    "    timesaver_u70 = pickle.load(f)\n",
    "with open('../data/timedata/time_unbalanced_80.pickle', 'rb') as f:\n",
    "    timesaver_u80 = pickle.load(f)\n",
    "with open('../data/timedata/time_unbalanced_90.pickle', 'rb') as f:\n",
    "    timesaver_u90 = pickle.load(f)\n",
    "with open('../data/timedata/time_unbalanced_100.pickle', 'rb') as f:\n",
    "    timesaver_u100 = pickle.load(f)\n"
   ]
  },
  {
   "cell_type": "markdown",
   "metadata": {},
   "source": [
    "## Visualisation"
   ]
  },
  {
   "cell_type": "code",
   "execution_count": null,
   "metadata": {},
   "outputs": [],
   "source": [
    "### Fix the length of every documents,"
   ]
  },
  {
   "cell_type": "code",
   "execution_count": 8,
   "metadata": {},
   "outputs": [
    {
     "data": {
      "image/png": "[encoded data removed]",
      "text/plain": [
       "<Figure size 432x288 with 1 Axes>"
      ]
     },
     "metadata": {
      "needs_background": "light"
     },
     "output_type": "display_data"
    }
   ],
   "source": [
    "import matplotlib.pyplot as plt\n",
    "plt.plot(range(1000,500000,10000), timesaver)\n",
    "plt.xlabel('Number of documents')\n",
    "plt.ylabel('Time')\n",
    "plt.show()"
   ]
  },
  {
   "cell_type": "code",
   "execution_count": null,
   "metadata": {},
   "outputs": [],
   "source": [
    "# Maybe explain it, for example:\n",
    "# with the number of documents increase the time increase linearly"
   ]
  },
  {
   "cell_type": "code",
   "execution_count": null,
   "metadata": {},
   "outputs": [],
   "source": []
  },
  {
   "cell_type": "code",
   "execution_count": null,
   "metadata": {},
   "outputs": [],
   "source": [
    "# unbalanced data means there contains 1000 words and 100000 words in different documents\n",
    "# eg. unbalanced_10% represents:\n",
    "# 10% documents have 1000 words and 90% of them have 100000 words"
   ]
  },
  {
   "cell_type": "code",
   "execution_count": 55,
   "metadata": {
    "scrolled": true
   },
   "outputs": [
    {
     "data": {
      "image/png": "[encoded data removed]",
      "text/plain": [
       "<Figure size 432x288 with 1 Axes>"
      ]
     },
     "metadata": {
      "needs_background": "light"
     },
     "output_type": "display_data"
    }
   ],
   "source": [
    "%matplotlib inline\n",
    "\n",
    "plt.figure()\n",
    "l2, = plt.plot(np.arange(0,5000,1000), timesaver_b)\n",
    "l3, = plt.plot(np.arange(0,5000,1000), timesaver_u10)\n",
    "l4, = plt.plot(np.arange(0,5000,1000), timesaver_u20)\n",
    "l5, = plt.plot(np.arange(0,5000,1000), timesaver_u30)\n",
    "l6, = plt.plot(np.arange(0,5000,1000), timesaver_u40)\n",
    "l7, = plt.plot(np.arange(0,5000,1000), timesaver_u)\n",
    "l8, = plt.plot(np.arange(0,5000,1000), timesaver_u60)\n",
    "l9, = plt.plot(np.arange(0,5000,1000), timesaver_u70)\n",
    "l10, = plt.plot(np.arange(0,5000,1000), timesaver_u80)\n",
    "l11, = plt.plot(np.arange(0,5000,1000), timesaver_u90)\n",
    "l12, = plt.plot(np.arange(0,5000,1000), timesaver_u100)\n",
    "\n",
    "plt.xlabel('Number of documents')\n",
    "plt.ylabel('Time')\n",
    "plt.legend((l2, l3, l4, l5, l6, l7, l8, l9, l10, l11, l12), ('balanced', 'unbalanced_10%', 'unbalanced_20%', 'unbalanced_30%', 'unbalanced_40%', 'unbalanced_50%', 'unbalanced_60%', 'unbalanced_70%', 'unbalanced_80%', 'unbalanced_90%', 'unbalanced_100%'))\n",
    "\n",
    "# maybe it is too much lines, I chose different \n",
    "plt.show()"
   ]
  },
  {
   "cell_type": "code",
   "execution_count": null,
   "metadata": {},
   "outputs": [],
   "source": [
    "# Analysis: Maybe this graph is not clear go to the end of the documents\n",
    "\n"
   ]
  },
  {
   "cell_type": "markdown",
   "metadata": {},
   "source": [
    "TODO: Maybe we can calculate the slope or something?\n",
    "TODO: Maybe can calculate if the time just depends on total words"
   ]
  },
  {
   "cell_type": "code",
   "execution_count": null,
   "metadata": {},
   "outputs": [],
   "source": [
    "# 10000 documents (fix the number of documents)\n",
    "# see how it changes with different size of documents"
   ]
  },
  {
   "cell_type": "code",
   "execution_count": 10,
   "metadata": {},
   "outputs": [],
   "source": [
    "with open('../data/time_with_prob.pickle', 'rb') as f:\n",
    "    timesaver_p = pickle.load(f)"
   ]
  },
  {
   "cell_type": "code",
   "execution_count": 11,
   "metadata": {},
   "outputs": [
    {
     "data": {
      "text/plain": [
       "[<matplotlib.lines.Line2D at 0x2afbcfb2c390>]"
      ]
     },
     "execution_count": 11,
     "metadata": {},
     "output_type": "execute_result"
    },
    {
     "data": {
      "image/png": "[encoded data removed]",
      "text/plain": [
       "<Figure size 432x288 with 1 Axes>"
      ]
     },
     "metadata": {
      "needs_background": "light"
     },
     "output_type": "display_data"
    }
   ],
   "source": [
    "# from 0 to 1, use prob because I generate the data by using random variable x \n",
    "# if x < prob, it generate the documents with 1000 words, if not generate a large one\n",
    "prob = [0.0, 0.1, 0.2, 0.3, 0.4, 0.5, 0.6, 0.7, 0.8, 0.9, 1]\n",
    "plt.plot(prob, timesaver_p)"
   ]
  },
  {
   "cell_type": "code",
   "execution_count": null,
   "metadata": {},
   "outputs": [],
   "source": [
    "# basically like linear"
   ]
  },
  {
   "cell_type": "markdown",
   "metadata": {},
   "source": []
  },
  {
   "cell_type": "code",
   "execution_count": null,
   "metadata": {},
   "outputs": [],
   "source": []
  },
  {
   "cell_type": "code",
   "execution_count": 56,
   "metadata": {},
   "outputs": [
    {
     "data": {
      "image/png": "[encoded data removed]",
      "text/plain": [
       "<Figure size 432x288 with 1 Axes>"
      ]
     },
     "metadata": {
      "needs_background": "light"
     },
     "output_type": "display_data"
    }
   ],
   "source": [
    "%matplotlib inline\n",
    "\n",
    "plt.figure()\n",
    "l2, = plt.plot(np.arange(0,5000,1000), timesaver_b)\n",
    "l3, = plt.plot(np.arange(0,5000,1000), timesaver_u10)\n",
    "l6, = plt.plot(np.arange(0,5000,1000), timesaver_u40)\n",
    "l7, = plt.plot(np.arange(0,5000,1000), timesaver_u)\n",
    "l10, = plt.plot(np.arange(0,5000,1000), timesaver_u80)\n",
    "l12, = plt.plot(np.arange(0,5000,1000), timesaver_u100)\n",
    "\n",
    "plt.xlabel('Number of documents')\n",
    "plt.ylabel('Time')\n",
    "plt.legend((l2, l3, l6, l7, l10, l12), ('balanced', 'unbalanced_10%', 'unbalanced_40%', 'unbalanced_50%','unbalanced_80%', 'unbalanced_100%'))\n",
    "\n",
    "plt.show()"
   ]
  },
  {
   "cell_type": "code",
   "execution_count": null,
   "metadata": {},
   "outputs": [],
   "source": [
    "# The 40% 50% is interesting. don't know if it is a coincidence"
   ]
  },
  {
   "cell_type": "code",
   "execution_count": null,
   "metadata": {},
   "outputs": [],
   "source": []
  },
  {
   "cell_type": "code",
   "execution_count": null,
   "metadata": {},
   "outputs": [],
   "source": [
    "# Just let me know what kind of graph you want: maybe can try different number of cores"
   ]
  }
 ],
 "metadata": {
  "kernelspec": {
   "display_name": "Python 3",
   "language": "python",
   "name": "python3"
  },
  "language_info": {
   "codemirror_mode": {
    "name": "ipython",
    "version": 3
   },
   "file_extension": ".py",
   "mimetype": "text/x-python",
   "name": "python",
   "nbconvert_exporter": "python",
   "pygments_lexer": "ipython3",
   "version": "3.7.1"
  },
  "toc": {
   "base_numbering": 1,
   "nav_menu": {},
   "number_sections": true,
   "sideBar": true,
   "skip_h1_title": false,
   "title_cell": "Table of Contents",
   "title_sidebar": "Contents",
   "toc_cell": false,
   "toc_position": {},
   "toc_section_display": true,
   "toc_window_display": false
  }
 },
 "nbformat": 4,
 "nbformat_minor": 2
}
